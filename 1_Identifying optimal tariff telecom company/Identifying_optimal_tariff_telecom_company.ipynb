{
 "cells": [
  {
   "cell_type": "markdown",
   "metadata": {},
   "source": [
    "# Определение перспективного тарифа для телеком-компании"
   ]
  },
  {
   "cell_type": "markdown",
   "metadata": {},
   "source": [
    "**Краткое описание проекта**\n",
    "\n",
    "Клиентам федерального оператора сотовой связи предлагают два тарифных плана: «Смарт» и «Ультра». Есть данные небольшой выборки клиентов за 2018 г.: характеристики 500 пользователей и потребляемого ими трафика.\n",
    "\n",
    "**Постановка задачи** \n",
    "\n",
    "Для целей корректировки рекламного бюджета необходимо проанализировать поведение клиентов и сделать вывод — какой тариф лучше с точки зрения генерации положительных денежных потоков для компании."
   ]
  },
  {
   "cell_type": "markdown",
   "metadata": {},
   "source": [
    "## Изучение данных из файлов"
   ]
  },
  {
   "cell_type": "code",
   "execution_count": 1,
   "metadata": {},
   "outputs": [],
   "source": [
    "import pandas as pd\n",
    "import numpy as np\n",
    "import matplotlib.pyplot as plt\n",
    "import seaborn as sns\n",
    "from scipy import stats as st"
   ]
  },
  {
   "cell_type": "code",
   "execution_count": 2,
   "metadata": {},
   "outputs": [],
   "source": [
    "df_calls = pd.read_csv('datasets/calls.csv')\n",
    "df_internet = pd.read_csv('datasets/internet.csv')\n",
    "df_messages = pd.read_csv('datasets/messages.csv')\n",
    "df_tariffs = pd.read_csv('datasets/tariffs.csv')\n",
    "df_users = pd.read_csv('datasets/users.csv')"
   ]
  },
  {
   "cell_type": "code",
   "execution_count": 3,
   "metadata": {},
   "outputs": [],
   "source": [
    "def hello(dataset):\n",
    "    return dataset.info(), display(dataset.head())"
   ]
  },
  {
   "cell_type": "code",
   "execution_count": 4,
   "metadata": {},
   "outputs": [
    {
     "name": "stdout",
     "output_type": "stream",
     "text": [
      "<class 'pandas.core.frame.DataFrame'>\n",
      "RangeIndex: 202607 entries, 0 to 202606\n",
      "Data columns (total 4 columns):\n",
      " #   Column     Non-Null Count   Dtype  \n",
      "---  ------     --------------   -----  \n",
      " 0   id         202607 non-null  object \n",
      " 1   call_date  202607 non-null  object \n",
      " 2   duration   202607 non-null  float64\n",
      " 3   user_id    202607 non-null  int64  \n",
      "dtypes: float64(1), int64(1), object(2)\n",
      "memory usage: 6.2+ MB\n"
     ]
    },
    {
     "data": {
      "text/html": [
       "<div>\n",
       "<style scoped>\n",
       "    .dataframe tbody tr th:only-of-type {\n",
       "        vertical-align: middle;\n",
       "    }\n",
       "\n",
       "    .dataframe tbody tr th {\n",
       "        vertical-align: top;\n",
       "    }\n",
       "\n",
       "    .dataframe thead th {\n",
       "        text-align: right;\n",
       "    }\n",
       "</style>\n",
       "<table border=\"1\" class=\"dataframe\">\n",
       "  <thead>\n",
       "    <tr style=\"text-align: right;\">\n",
       "      <th></th>\n",
       "      <th>id</th>\n",
       "      <th>call_date</th>\n",
       "      <th>duration</th>\n",
       "      <th>user_id</th>\n",
       "    </tr>\n",
       "  </thead>\n",
       "  <tbody>\n",
       "    <tr>\n",
       "      <th>0</th>\n",
       "      <td>1000_0</td>\n",
       "      <td>2018-07-25</td>\n",
       "      <td>0.00</td>\n",
       "      <td>1000</td>\n",
       "    </tr>\n",
       "    <tr>\n",
       "      <th>1</th>\n",
       "      <td>1000_1</td>\n",
       "      <td>2018-08-17</td>\n",
       "      <td>0.00</td>\n",
       "      <td>1000</td>\n",
       "    </tr>\n",
       "    <tr>\n",
       "      <th>2</th>\n",
       "      <td>1000_2</td>\n",
       "      <td>2018-06-11</td>\n",
       "      <td>2.85</td>\n",
       "      <td>1000</td>\n",
       "    </tr>\n",
       "    <tr>\n",
       "      <th>3</th>\n",
       "      <td>1000_3</td>\n",
       "      <td>2018-09-21</td>\n",
       "      <td>13.80</td>\n",
       "      <td>1000</td>\n",
       "    </tr>\n",
       "    <tr>\n",
       "      <th>4</th>\n",
       "      <td>1000_4</td>\n",
       "      <td>2018-12-15</td>\n",
       "      <td>5.18</td>\n",
       "      <td>1000</td>\n",
       "    </tr>\n",
       "  </tbody>\n",
       "</table>\n",
       "</div>"
      ],
      "text/plain": [
       "       id   call_date  duration  user_id\n",
       "0  1000_0  2018-07-25      0.00     1000\n",
       "1  1000_1  2018-08-17      0.00     1000\n",
       "2  1000_2  2018-06-11      2.85     1000\n",
       "3  1000_3  2018-09-21     13.80     1000\n",
       "4  1000_4  2018-12-15      5.18     1000"
      ]
     },
     "metadata": {},
     "output_type": "display_data"
    },
    {
     "data": {
      "text/plain": [
       "(None, None)"
      ]
     },
     "execution_count": 4,
     "metadata": {},
     "output_type": "execute_result"
    }
   ],
   "source": [
    "hello(df_calls)"
   ]
  },
  {
   "cell_type": "code",
   "execution_count": 5,
   "metadata": {},
   "outputs": [
    {
     "name": "stdout",
     "output_type": "stream",
     "text": [
      "<class 'pandas.core.frame.DataFrame'>\n",
      "RangeIndex: 149396 entries, 0 to 149395\n",
      "Data columns (total 5 columns):\n",
      " #   Column        Non-Null Count   Dtype  \n",
      "---  ------        --------------   -----  \n",
      " 0   Unnamed: 0    149396 non-null  int64  \n",
      " 1   id            149396 non-null  object \n",
      " 2   mb_used       149396 non-null  float64\n",
      " 3   session_date  149396 non-null  object \n",
      " 4   user_id       149396 non-null  int64  \n",
      "dtypes: float64(1), int64(2), object(2)\n",
      "memory usage: 5.7+ MB\n"
     ]
    },
    {
     "data": {
      "text/html": [
       "<div>\n",
       "<style scoped>\n",
       "    .dataframe tbody tr th:only-of-type {\n",
       "        vertical-align: middle;\n",
       "    }\n",
       "\n",
       "    .dataframe tbody tr th {\n",
       "        vertical-align: top;\n",
       "    }\n",
       "\n",
       "    .dataframe thead th {\n",
       "        text-align: right;\n",
       "    }\n",
       "</style>\n",
       "<table border=\"1\" class=\"dataframe\">\n",
       "  <thead>\n",
       "    <tr style=\"text-align: right;\">\n",
       "      <th></th>\n",
       "      <th>Unnamed: 0</th>\n",
       "      <th>id</th>\n",
       "      <th>mb_used</th>\n",
       "      <th>session_date</th>\n",
       "      <th>user_id</th>\n",
       "    </tr>\n",
       "  </thead>\n",
       "  <tbody>\n",
       "    <tr>\n",
       "      <th>0</th>\n",
       "      <td>0</td>\n",
       "      <td>1000_0</td>\n",
       "      <td>112.95</td>\n",
       "      <td>2018-11-25</td>\n",
       "      <td>1000</td>\n",
       "    </tr>\n",
       "    <tr>\n",
       "      <th>1</th>\n",
       "      <td>1</td>\n",
       "      <td>1000_1</td>\n",
       "      <td>1052.81</td>\n",
       "      <td>2018-09-07</td>\n",
       "      <td>1000</td>\n",
       "    </tr>\n",
       "    <tr>\n",
       "      <th>2</th>\n",
       "      <td>2</td>\n",
       "      <td>1000_2</td>\n",
       "      <td>1197.26</td>\n",
       "      <td>2018-06-25</td>\n",
       "      <td>1000</td>\n",
       "    </tr>\n",
       "    <tr>\n",
       "      <th>3</th>\n",
       "      <td>3</td>\n",
       "      <td>1000_3</td>\n",
       "      <td>550.27</td>\n",
       "      <td>2018-08-22</td>\n",
       "      <td>1000</td>\n",
       "    </tr>\n",
       "    <tr>\n",
       "      <th>4</th>\n",
       "      <td>4</td>\n",
       "      <td>1000_4</td>\n",
       "      <td>302.56</td>\n",
       "      <td>2018-09-24</td>\n",
       "      <td>1000</td>\n",
       "    </tr>\n",
       "  </tbody>\n",
       "</table>\n",
       "</div>"
      ],
      "text/plain": [
       "   Unnamed: 0      id  mb_used session_date  user_id\n",
       "0           0  1000_0   112.95   2018-11-25     1000\n",
       "1           1  1000_1  1052.81   2018-09-07     1000\n",
       "2           2  1000_2  1197.26   2018-06-25     1000\n",
       "3           3  1000_3   550.27   2018-08-22     1000\n",
       "4           4  1000_4   302.56   2018-09-24     1000"
      ]
     },
     "metadata": {},
     "output_type": "display_data"
    },
    {
     "data": {
      "text/plain": [
       "(None, None)"
      ]
     },
     "execution_count": 5,
     "metadata": {},
     "output_type": "execute_result"
    }
   ],
   "source": [
    "hello(df_internet)"
   ]
  },
  {
   "cell_type": "code",
   "execution_count": 6,
   "metadata": {},
   "outputs": [
    {
     "name": "stdout",
     "output_type": "stream",
     "text": [
      "<class 'pandas.core.frame.DataFrame'>\n",
      "RangeIndex: 123036 entries, 0 to 123035\n",
      "Data columns (total 3 columns):\n",
      " #   Column        Non-Null Count   Dtype \n",
      "---  ------        --------------   ----- \n",
      " 0   id            123036 non-null  object\n",
      " 1   message_date  123036 non-null  object\n",
      " 2   user_id       123036 non-null  int64 \n",
      "dtypes: int64(1), object(2)\n",
      "memory usage: 2.8+ MB\n"
     ]
    },
    {
     "data": {
      "text/html": [
       "<div>\n",
       "<style scoped>\n",
       "    .dataframe tbody tr th:only-of-type {\n",
       "        vertical-align: middle;\n",
       "    }\n",
       "\n",
       "    .dataframe tbody tr th {\n",
       "        vertical-align: top;\n",
       "    }\n",
       "\n",
       "    .dataframe thead th {\n",
       "        text-align: right;\n",
       "    }\n",
       "</style>\n",
       "<table border=\"1\" class=\"dataframe\">\n",
       "  <thead>\n",
       "    <tr style=\"text-align: right;\">\n",
       "      <th></th>\n",
       "      <th>id</th>\n",
       "      <th>message_date</th>\n",
       "      <th>user_id</th>\n",
       "    </tr>\n",
       "  </thead>\n",
       "  <tbody>\n",
       "    <tr>\n",
       "      <th>0</th>\n",
       "      <td>1000_0</td>\n",
       "      <td>2018-06-27</td>\n",
       "      <td>1000</td>\n",
       "    </tr>\n",
       "    <tr>\n",
       "      <th>1</th>\n",
       "      <td>1000_1</td>\n",
       "      <td>2018-10-08</td>\n",
       "      <td>1000</td>\n",
       "    </tr>\n",
       "    <tr>\n",
       "      <th>2</th>\n",
       "      <td>1000_2</td>\n",
       "      <td>2018-08-04</td>\n",
       "      <td>1000</td>\n",
       "    </tr>\n",
       "    <tr>\n",
       "      <th>3</th>\n",
       "      <td>1000_3</td>\n",
       "      <td>2018-06-16</td>\n",
       "      <td>1000</td>\n",
       "    </tr>\n",
       "    <tr>\n",
       "      <th>4</th>\n",
       "      <td>1000_4</td>\n",
       "      <td>2018-12-05</td>\n",
       "      <td>1000</td>\n",
       "    </tr>\n",
       "  </tbody>\n",
       "</table>\n",
       "</div>"
      ],
      "text/plain": [
       "       id message_date  user_id\n",
       "0  1000_0   2018-06-27     1000\n",
       "1  1000_1   2018-10-08     1000\n",
       "2  1000_2   2018-08-04     1000\n",
       "3  1000_3   2018-06-16     1000\n",
       "4  1000_4   2018-12-05     1000"
      ]
     },
     "metadata": {},
     "output_type": "display_data"
    },
    {
     "data": {
      "text/plain": [
       "(None, None)"
      ]
     },
     "execution_count": 6,
     "metadata": {},
     "output_type": "execute_result"
    }
   ],
   "source": [
    "hello(df_messages)"
   ]
  },
  {
   "cell_type": "code",
   "execution_count": 7,
   "metadata": {},
   "outputs": [
    {
     "name": "stdout",
     "output_type": "stream",
     "text": [
      "<class 'pandas.core.frame.DataFrame'>\n",
      "RangeIndex: 2 entries, 0 to 1\n",
      "Data columns (total 8 columns):\n",
      " #   Column                 Non-Null Count  Dtype \n",
      "---  ------                 --------------  ----- \n",
      " 0   messages_included      2 non-null      int64 \n",
      " 1   mb_per_month_included  2 non-null      int64 \n",
      " 2   minutes_included       2 non-null      int64 \n",
      " 3   rub_monthly_fee        2 non-null      int64 \n",
      " 4   rub_per_gb             2 non-null      int64 \n",
      " 5   rub_per_message        2 non-null      int64 \n",
      " 6   rub_per_minute         2 non-null      int64 \n",
      " 7   tariff_name            2 non-null      object\n",
      "dtypes: int64(7), object(1)\n",
      "memory usage: 256.0+ bytes\n"
     ]
    },
    {
     "data": {
      "text/html": [
       "<div>\n",
       "<style scoped>\n",
       "    .dataframe tbody tr th:only-of-type {\n",
       "        vertical-align: middle;\n",
       "    }\n",
       "\n",
       "    .dataframe tbody tr th {\n",
       "        vertical-align: top;\n",
       "    }\n",
       "\n",
       "    .dataframe thead th {\n",
       "        text-align: right;\n",
       "    }\n",
       "</style>\n",
       "<table border=\"1\" class=\"dataframe\">\n",
       "  <thead>\n",
       "    <tr style=\"text-align: right;\">\n",
       "      <th></th>\n",
       "      <th>messages_included</th>\n",
       "      <th>mb_per_month_included</th>\n",
       "      <th>minutes_included</th>\n",
       "      <th>rub_monthly_fee</th>\n",
       "      <th>rub_per_gb</th>\n",
       "      <th>rub_per_message</th>\n",
       "      <th>rub_per_minute</th>\n",
       "      <th>tariff_name</th>\n",
       "    </tr>\n",
       "  </thead>\n",
       "  <tbody>\n",
       "    <tr>\n",
       "      <th>0</th>\n",
       "      <td>50</td>\n",
       "      <td>15360</td>\n",
       "      <td>500</td>\n",
       "      <td>550</td>\n",
       "      <td>200</td>\n",
       "      <td>3</td>\n",
       "      <td>3</td>\n",
       "      <td>smart</td>\n",
       "    </tr>\n",
       "    <tr>\n",
       "      <th>1</th>\n",
       "      <td>1000</td>\n",
       "      <td>30720</td>\n",
       "      <td>3000</td>\n",
       "      <td>1950</td>\n",
       "      <td>150</td>\n",
       "      <td>1</td>\n",
       "      <td>1</td>\n",
       "      <td>ultra</td>\n",
       "    </tr>\n",
       "  </tbody>\n",
       "</table>\n",
       "</div>"
      ],
      "text/plain": [
       "   messages_included  mb_per_month_included  minutes_included  \\\n",
       "0                 50                  15360               500   \n",
       "1               1000                  30720              3000   \n",
       "\n",
       "   rub_monthly_fee  rub_per_gb  rub_per_message  rub_per_minute tariff_name  \n",
       "0              550         200                3               3       smart  \n",
       "1             1950         150                1               1       ultra  "
      ]
     },
     "metadata": {},
     "output_type": "display_data"
    },
    {
     "data": {
      "text/plain": [
       "(None, None)"
      ]
     },
     "execution_count": 7,
     "metadata": {},
     "output_type": "execute_result"
    }
   ],
   "source": [
    "hello(df_tariffs)"
   ]
  },
  {
   "cell_type": "code",
   "execution_count": 8,
   "metadata": {},
   "outputs": [
    {
     "name": "stdout",
     "output_type": "stream",
     "text": [
      "<class 'pandas.core.frame.DataFrame'>\n",
      "RangeIndex: 500 entries, 0 to 499\n",
      "Data columns (total 8 columns):\n",
      " #   Column      Non-Null Count  Dtype \n",
      "---  ------      --------------  ----- \n",
      " 0   user_id     500 non-null    int64 \n",
      " 1   age         500 non-null    int64 \n",
      " 2   churn_date  38 non-null     object\n",
      " 3   city        500 non-null    object\n",
      " 4   first_name  500 non-null    object\n",
      " 5   last_name   500 non-null    object\n",
      " 6   reg_date    500 non-null    object\n",
      " 7   tariff      500 non-null    object\n",
      "dtypes: int64(2), object(6)\n",
      "memory usage: 31.4+ KB\n"
     ]
    },
    {
     "data": {
      "text/html": [
       "<div>\n",
       "<style scoped>\n",
       "    .dataframe tbody tr th:only-of-type {\n",
       "        vertical-align: middle;\n",
       "    }\n",
       "\n",
       "    .dataframe tbody tr th {\n",
       "        vertical-align: top;\n",
       "    }\n",
       "\n",
       "    .dataframe thead th {\n",
       "        text-align: right;\n",
       "    }\n",
       "</style>\n",
       "<table border=\"1\" class=\"dataframe\">\n",
       "  <thead>\n",
       "    <tr style=\"text-align: right;\">\n",
       "      <th></th>\n",
       "      <th>user_id</th>\n",
       "      <th>age</th>\n",
       "      <th>churn_date</th>\n",
       "      <th>city</th>\n",
       "      <th>first_name</th>\n",
       "      <th>last_name</th>\n",
       "      <th>reg_date</th>\n",
       "      <th>tariff</th>\n",
       "    </tr>\n",
       "  </thead>\n",
       "  <tbody>\n",
       "    <tr>\n",
       "      <th>0</th>\n",
       "      <td>1000</td>\n",
       "      <td>52</td>\n",
       "      <td>NaN</td>\n",
       "      <td>Краснодар</td>\n",
       "      <td>Рафаил</td>\n",
       "      <td>Верещагин</td>\n",
       "      <td>2018-05-25</td>\n",
       "      <td>ultra</td>\n",
       "    </tr>\n",
       "    <tr>\n",
       "      <th>1</th>\n",
       "      <td>1001</td>\n",
       "      <td>41</td>\n",
       "      <td>NaN</td>\n",
       "      <td>Москва</td>\n",
       "      <td>Иван</td>\n",
       "      <td>Ежов</td>\n",
       "      <td>2018-11-01</td>\n",
       "      <td>smart</td>\n",
       "    </tr>\n",
       "    <tr>\n",
       "      <th>2</th>\n",
       "      <td>1002</td>\n",
       "      <td>59</td>\n",
       "      <td>NaN</td>\n",
       "      <td>Стерлитамак</td>\n",
       "      <td>Евгений</td>\n",
       "      <td>Абрамович</td>\n",
       "      <td>2018-06-17</td>\n",
       "      <td>smart</td>\n",
       "    </tr>\n",
       "    <tr>\n",
       "      <th>3</th>\n",
       "      <td>1003</td>\n",
       "      <td>23</td>\n",
       "      <td>NaN</td>\n",
       "      <td>Москва</td>\n",
       "      <td>Белла</td>\n",
       "      <td>Белякова</td>\n",
       "      <td>2018-08-17</td>\n",
       "      <td>ultra</td>\n",
       "    </tr>\n",
       "    <tr>\n",
       "      <th>4</th>\n",
       "      <td>1004</td>\n",
       "      <td>68</td>\n",
       "      <td>NaN</td>\n",
       "      <td>Новокузнецк</td>\n",
       "      <td>Татьяна</td>\n",
       "      <td>Авдеенко</td>\n",
       "      <td>2018-05-14</td>\n",
       "      <td>ultra</td>\n",
       "    </tr>\n",
       "  </tbody>\n",
       "</table>\n",
       "</div>"
      ],
      "text/plain": [
       "   user_id  age churn_date         city first_name  last_name    reg_date  \\\n",
       "0     1000   52        NaN    Краснодар     Рафаил  Верещагин  2018-05-25   \n",
       "1     1001   41        NaN       Москва       Иван       Ежов  2018-11-01   \n",
       "2     1002   59        NaN  Стерлитамак    Евгений  Абрамович  2018-06-17   \n",
       "3     1003   23        NaN       Москва      Белла   Белякова  2018-08-17   \n",
       "4     1004   68        NaN  Новокузнецк    Татьяна   Авдеенко  2018-05-14   \n",
       "\n",
       "  tariff  \n",
       "0  ultra  \n",
       "1  smart  \n",
       "2  smart  \n",
       "3  ultra  \n",
       "4  ultra  "
      ]
     },
     "metadata": {},
     "output_type": "display_data"
    },
    {
     "data": {
      "text/plain": [
       "(None, None)"
      ]
     },
     "execution_count": 8,
     "metadata": {},
     "output_type": "execute_result"
    }
   ],
   "source": [
    "hello(df_users)"
   ]
  },
  {
   "cell_type": "markdown",
   "metadata": {},
   "source": [
    "### Вывод 1\n",
    "\n",
    "Исходя из общего знакомства с данными сразу можно выделить следующие пункты для предобработки данных:\n",
    "\n",
    "1) пропущенные значения:\n",
    "\n",
    "- ни в одной таблице нет пропущенных значений\n",
    "- за исключением столбца churn_date в df_users, но здесь пропуски заменять не нужно, поскольку отсутствие значений означает то, что на момент выгрузки тариф еще действовал\n",
    "\n",
    "2) изменение типа данных: \n",
    "\n",
    "- нужно привести все столбцы с датами к типу datetime\n",
    "\n",
    "3) нужно удалить лишний столбец в таблице df_internet"
   ]
  },
  {
   "cell_type": "markdown",
   "metadata": {},
   "source": [
    "## Предобработка данных"
   ]
  },
  {
   "cell_type": "code",
   "execution_count": 9,
   "metadata": {},
   "outputs": [
    {
     "data": {
      "text/html": [
       "<div>\n",
       "<style scoped>\n",
       "    .dataframe tbody tr th:only-of-type {\n",
       "        vertical-align: middle;\n",
       "    }\n",
       "\n",
       "    .dataframe tbody tr th {\n",
       "        vertical-align: top;\n",
       "    }\n",
       "\n",
       "    .dataframe thead th {\n",
       "        text-align: right;\n",
       "    }\n",
       "</style>\n",
       "<table border=\"1\" class=\"dataframe\">\n",
       "  <thead>\n",
       "    <tr style=\"text-align: right;\">\n",
       "      <th></th>\n",
       "      <th>Unnamed: 0</th>\n",
       "      <th>id</th>\n",
       "      <th>mb_used</th>\n",
       "      <th>session_date</th>\n",
       "      <th>user_id</th>\n",
       "    </tr>\n",
       "  </thead>\n",
       "  <tbody>\n",
       "    <tr>\n",
       "      <th>0</th>\n",
       "      <td>0</td>\n",
       "      <td>1000_0</td>\n",
       "      <td>112.95</td>\n",
       "      <td>2018-11-25</td>\n",
       "      <td>1000</td>\n",
       "    </tr>\n",
       "    <tr>\n",
       "      <th>1</th>\n",
       "      <td>1</td>\n",
       "      <td>1000_1</td>\n",
       "      <td>1052.81</td>\n",
       "      <td>2018-09-07</td>\n",
       "      <td>1000</td>\n",
       "    </tr>\n",
       "    <tr>\n",
       "      <th>2</th>\n",
       "      <td>2</td>\n",
       "      <td>1000_2</td>\n",
       "      <td>1197.26</td>\n",
       "      <td>2018-06-25</td>\n",
       "      <td>1000</td>\n",
       "    </tr>\n",
       "    <tr>\n",
       "      <th>3</th>\n",
       "      <td>3</td>\n",
       "      <td>1000_3</td>\n",
       "      <td>550.27</td>\n",
       "      <td>2018-08-22</td>\n",
       "      <td>1000</td>\n",
       "    </tr>\n",
       "    <tr>\n",
       "      <th>4</th>\n",
       "      <td>4</td>\n",
       "      <td>1000_4</td>\n",
       "      <td>302.56</td>\n",
       "      <td>2018-09-24</td>\n",
       "      <td>1000</td>\n",
       "    </tr>\n",
       "  </tbody>\n",
       "</table>\n",
       "</div>"
      ],
      "text/plain": [
       "   Unnamed: 0      id  mb_used session_date  user_id\n",
       "0           0  1000_0   112.95   2018-11-25     1000\n",
       "1           1  1000_1  1052.81   2018-09-07     1000\n",
       "2           2  1000_2  1197.26   2018-06-25     1000\n",
       "3           3  1000_3   550.27   2018-08-22     1000\n",
       "4           4  1000_4   302.56   2018-09-24     1000"
      ]
     },
     "execution_count": 9,
     "metadata": {},
     "output_type": "execute_result"
    }
   ],
   "source": [
    "df_internet.head()"
   ]
  },
  {
   "cell_type": "code",
   "execution_count": 10,
   "metadata": {},
   "outputs": [
    {
     "data": {
      "text/html": [
       "<div>\n",
       "<style scoped>\n",
       "    .dataframe tbody tr th:only-of-type {\n",
       "        vertical-align: middle;\n",
       "    }\n",
       "\n",
       "    .dataframe tbody tr th {\n",
       "        vertical-align: top;\n",
       "    }\n",
       "\n",
       "    .dataframe thead th {\n",
       "        text-align: right;\n",
       "    }\n",
       "</style>\n",
       "<table border=\"1\" class=\"dataframe\">\n",
       "  <thead>\n",
       "    <tr style=\"text-align: right;\">\n",
       "      <th></th>\n",
       "      <th>id</th>\n",
       "      <th>mb_used</th>\n",
       "      <th>session_date</th>\n",
       "      <th>user_id</th>\n",
       "    </tr>\n",
       "  </thead>\n",
       "  <tbody>\n",
       "    <tr>\n",
       "      <th>0</th>\n",
       "      <td>1000_0</td>\n",
       "      <td>112.95</td>\n",
       "      <td>2018-11-25</td>\n",
       "      <td>1000</td>\n",
       "    </tr>\n",
       "    <tr>\n",
       "      <th>1</th>\n",
       "      <td>1000_1</td>\n",
       "      <td>1052.81</td>\n",
       "      <td>2018-09-07</td>\n",
       "      <td>1000</td>\n",
       "    </tr>\n",
       "    <tr>\n",
       "      <th>2</th>\n",
       "      <td>1000_2</td>\n",
       "      <td>1197.26</td>\n",
       "      <td>2018-06-25</td>\n",
       "      <td>1000</td>\n",
       "    </tr>\n",
       "    <tr>\n",
       "      <th>3</th>\n",
       "      <td>1000_3</td>\n",
       "      <td>550.27</td>\n",
       "      <td>2018-08-22</td>\n",
       "      <td>1000</td>\n",
       "    </tr>\n",
       "    <tr>\n",
       "      <th>4</th>\n",
       "      <td>1000_4</td>\n",
       "      <td>302.56</td>\n",
       "      <td>2018-09-24</td>\n",
       "      <td>1000</td>\n",
       "    </tr>\n",
       "  </tbody>\n",
       "</table>\n",
       "</div>"
      ],
      "text/plain": [
       "       id  mb_used session_date  user_id\n",
       "0  1000_0   112.95   2018-11-25     1000\n",
       "1  1000_1  1052.81   2018-09-07     1000\n",
       "2  1000_2  1197.26   2018-06-25     1000\n",
       "3  1000_3   550.27   2018-08-22     1000\n",
       "4  1000_4   302.56   2018-09-24     1000"
      ]
     },
     "execution_count": 10,
     "metadata": {},
     "output_type": "execute_result"
    }
   ],
   "source": [
    "# фильтрация из df_internet ненужного столбца (дублирует номера строк - индексы df)\n",
    "\n",
    "df_internet = df_internet.loc[:, 'id': 'user_id']\n",
    "df_internet.head()"
   ]
  },
  {
   "cell_type": "code",
   "execution_count": 11,
   "metadata": {},
   "outputs": [],
   "source": [
    "# приводим все столбцы с датами во всех датасэтах к типу datetime\n",
    "\n",
    "df_calls['call_date'] = pd.to_datetime(df_calls['call_date'], format='%Y-%m-%d')\n",
    "df_internet['session_date'] = pd.to_datetime(df_internet['session_date'], format='%Y-%m-%d')\n",
    "df_messages['message_date'] = pd.to_datetime(df_messages['message_date'], format='%Y-%m-%d')\n",
    "df_users['churn_date'] = pd.to_datetime(df_users['churn_date'], format='%Y-%m-%d')\n",
    "df_users['reg_date'] = pd.to_datetime(df_users['reg_date'], format='%Y-%m-%d')"
   ]
  },
  {
   "cell_type": "markdown",
   "metadata": {},
   "source": [
    "### Вывод 2\n",
    "\n",
    "1) все столбцы с датами приведены к типу datetime\n",
    "\n",
    "2) удален лишний столбец Unnamed: 0 в таблице df_internet (дублировал индексы строк df)"
   ]
  },
  {
   "cell_type": "markdown",
   "metadata": {},
   "source": [
    "## Расчёты и добавление результатов в таблицу"
   ]
  },
  {
   "cell_type": "code",
   "execution_count": 12,
   "metadata": {},
   "outputs": [],
   "source": [
    "# добавим по всем таблицам с трафиком (минуты, мб, сообщения) столбец месяц\n",
    "\n",
    "df_calls['month'] = df_calls['call_date'].dt.month\n",
    "df_internet['month'] = df_internet['session_date'].dt.month\n",
    "df_messages['month'] = df_messages['message_date'].dt.month"
   ]
  },
  {
   "cell_type": "code",
   "execution_count": 13,
   "metadata": {
    "scrolled": true
   },
   "outputs": [
    {
     "data": {
      "text/html": [
       "<div>\n",
       "<style scoped>\n",
       "    .dataframe tbody tr th:only-of-type {\n",
       "        vertical-align: middle;\n",
       "    }\n",
       "\n",
       "    .dataframe tbody tr th {\n",
       "        vertical-align: top;\n",
       "    }\n",
       "\n",
       "    .dataframe thead th {\n",
       "        text-align: right;\n",
       "    }\n",
       "</style>\n",
       "<table border=\"1\" class=\"dataframe\">\n",
       "  <thead>\n",
       "    <tr style=\"text-align: right;\">\n",
       "      <th></th>\n",
       "      <th></th>\n",
       "      <th>calls_count</th>\n",
       "      <th>calls_duration</th>\n",
       "    </tr>\n",
       "    <tr>\n",
       "      <th>user_id</th>\n",
       "      <th>month</th>\n",
       "      <th></th>\n",
       "      <th></th>\n",
       "    </tr>\n",
       "  </thead>\n",
       "  <tbody>\n",
       "    <tr>\n",
       "      <th rowspan=\"5\" valign=\"top\">1000</th>\n",
       "      <th>5</th>\n",
       "      <td>22</td>\n",
       "      <td>150.06</td>\n",
       "    </tr>\n",
       "    <tr>\n",
       "      <th>6</th>\n",
       "      <td>43</td>\n",
       "      <td>158.90</td>\n",
       "    </tr>\n",
       "    <tr>\n",
       "      <th>7</th>\n",
       "      <td>47</td>\n",
       "      <td>318.80</td>\n",
       "    </tr>\n",
       "    <tr>\n",
       "      <th>8</th>\n",
       "      <td>52</td>\n",
       "      <td>389.87</td>\n",
       "    </tr>\n",
       "    <tr>\n",
       "      <th>9</th>\n",
       "      <td>58</td>\n",
       "      <td>440.14</td>\n",
       "    </tr>\n",
       "  </tbody>\n",
       "</table>\n",
       "</div>"
      ],
      "text/plain": [
       "               calls_count  calls_duration\n",
       "user_id month                             \n",
       "1000    5               22          150.06\n",
       "        6               43          158.90\n",
       "        7               47          318.80\n",
       "        8               52          389.87\n",
       "        9               58          440.14"
      ]
     },
     "execution_count": 13,
     "metadata": {},
     "output_type": "execute_result"
    }
   ],
   "source": [
    "# создаем новую таблицу на основе группировки по пользователю и месяцу\n",
    "\n",
    "df_calls_group = df_calls.groupby(['user_id', 'month']).agg({'duration': ['count', 'sum']}) \n",
    "\n",
    "# избавляемся от мультиндекса\n",
    "\n",
    "df_calls_group = df_calls_group['duration']\n",
    "\n",
    "# переназовем столбцы для дальнейшего удобства\n",
    "\n",
    "df_calls_group = df_calls_group.rename(columns={'count': 'calls_count'})\n",
    "df_calls_group = df_calls_group.rename(columns={'sum': 'calls_duration'})\n",
    "df_calls_group.head()"
   ]
  },
  {
   "cell_type": "code",
   "execution_count": 14,
   "metadata": {},
   "outputs": [
    {
     "data": {
      "text/html": [
       "<div>\n",
       "<style scoped>\n",
       "    .dataframe tbody tr th:only-of-type {\n",
       "        vertical-align: middle;\n",
       "    }\n",
       "\n",
       "    .dataframe tbody tr th {\n",
       "        vertical-align: top;\n",
       "    }\n",
       "\n",
       "    .dataframe thead th {\n",
       "        text-align: right;\n",
       "    }\n",
       "</style>\n",
       "<table border=\"1\" class=\"dataframe\">\n",
       "  <thead>\n",
       "    <tr style=\"text-align: right;\">\n",
       "      <th></th>\n",
       "      <th></th>\n",
       "      <th>gb_used</th>\n",
       "    </tr>\n",
       "    <tr>\n",
       "      <th>user_id</th>\n",
       "      <th>month</th>\n",
       "      <th></th>\n",
       "    </tr>\n",
       "  </thead>\n",
       "  <tbody>\n",
       "    <tr>\n",
       "      <th rowspan=\"5\" valign=\"top\">1000</th>\n",
       "      <th>5</th>\n",
       "      <td>3.0</td>\n",
       "    </tr>\n",
       "    <tr>\n",
       "      <th>6</th>\n",
       "      <td>23.0</td>\n",
       "    </tr>\n",
       "    <tr>\n",
       "      <th>7</th>\n",
       "      <td>14.0</td>\n",
       "    </tr>\n",
       "    <tr>\n",
       "      <th>8</th>\n",
       "      <td>14.0</td>\n",
       "    </tr>\n",
       "    <tr>\n",
       "      <th>9</th>\n",
       "      <td>15.0</td>\n",
       "    </tr>\n",
       "  </tbody>\n",
       "</table>\n",
       "</div>"
      ],
      "text/plain": [
       "               gb_used\n",
       "user_id month         \n",
       "1000    5          3.0\n",
       "        6         23.0\n",
       "        7         14.0\n",
       "        8         14.0\n",
       "        9         15.0"
      ]
     },
     "execution_count": 14,
     "metadata": {},
     "output_type": "execute_result"
    }
   ],
   "source": [
    "# создаем новую таблицу на основе группировки по пользователю и месяцу\n",
    "\n",
    "df_internet_group = df_internet.groupby(['user_id', 'month']).sum()\n",
    "\n",
    "# переведем мб в гб, округлив в сторону увеличения\n",
    "\n",
    "df_internet_group['mb_used'] = np.ceil(df_internet_group['mb_used'] / 1024)\n",
    "\n",
    "# переназовем столбцы для дальнейшего удобства\n",
    "\n",
    "df_internet_group = df_internet_group.rename(columns={'mb_used': 'gb_used'})\n",
    "df_internet_group.head()"
   ]
  },
  {
   "cell_type": "code",
   "execution_count": 15,
   "metadata": {},
   "outputs": [
    {
     "data": {
      "text/html": [
       "<div>\n",
       "<style scoped>\n",
       "    .dataframe tbody tr th:only-of-type {\n",
       "        vertical-align: middle;\n",
       "    }\n",
       "\n",
       "    .dataframe tbody tr th {\n",
       "        vertical-align: top;\n",
       "    }\n",
       "\n",
       "    .dataframe thead th {\n",
       "        text-align: right;\n",
       "    }\n",
       "</style>\n",
       "<table border=\"1\" class=\"dataframe\">\n",
       "  <thead>\n",
       "    <tr style=\"text-align: right;\">\n",
       "      <th></th>\n",
       "      <th></th>\n",
       "      <th>messages</th>\n",
       "    </tr>\n",
       "    <tr>\n",
       "      <th>user_id</th>\n",
       "      <th>month</th>\n",
       "      <th></th>\n",
       "    </tr>\n",
       "  </thead>\n",
       "  <tbody>\n",
       "    <tr>\n",
       "      <th rowspan=\"5\" valign=\"top\">1000</th>\n",
       "      <th>5</th>\n",
       "      <td>22</td>\n",
       "    </tr>\n",
       "    <tr>\n",
       "      <th>6</th>\n",
       "      <td>60</td>\n",
       "    </tr>\n",
       "    <tr>\n",
       "      <th>7</th>\n",
       "      <td>75</td>\n",
       "    </tr>\n",
       "    <tr>\n",
       "      <th>8</th>\n",
       "      <td>81</td>\n",
       "    </tr>\n",
       "    <tr>\n",
       "      <th>9</th>\n",
       "      <td>57</td>\n",
       "    </tr>\n",
       "  </tbody>\n",
       "</table>\n",
       "</div>"
      ],
      "text/plain": [
       "               messages\n",
       "user_id month          \n",
       "1000    5            22\n",
       "        6            60\n",
       "        7            75\n",
       "        8            81\n",
       "        9            57"
      ]
     },
     "execution_count": 15,
     "metadata": {},
     "output_type": "execute_result"
    }
   ],
   "source": [
    "# создаем новую таблицу на основе группировки по пользователю и месяцу\n",
    "\n",
    "df_messages_group = df_messages.groupby(['user_id', 'month']).count()\n",
    "\n",
    "# удаляем лишний столбец\n",
    "\n",
    "df_messages_group = df_messages_group.drop(columns = 'message_date', axis = 1)\n",
    "\n",
    "# переназовем столбец для дальнейшего удобства\n",
    "\n",
    "df_messages_group = df_messages_group.rename(columns={'id': 'messages'})\n",
    "df_messages_group.head()"
   ]
  },
  {
   "cell_type": "code",
   "execution_count": 16,
   "metadata": {},
   "outputs": [
    {
     "data": {
      "text/html": [
       "<div>\n",
       "<style scoped>\n",
       "    .dataframe tbody tr th:only-of-type {\n",
       "        vertical-align: middle;\n",
       "    }\n",
       "\n",
       "    .dataframe tbody tr th {\n",
       "        vertical-align: top;\n",
       "    }\n",
       "\n",
       "    .dataframe thead th {\n",
       "        text-align: right;\n",
       "    }\n",
       "</style>\n",
       "<table border=\"1\" class=\"dataframe\">\n",
       "  <thead>\n",
       "    <tr style=\"text-align: right;\">\n",
       "      <th></th>\n",
       "      <th>user_id</th>\n",
       "      <th>month</th>\n",
       "      <th>calls_count</th>\n",
       "      <th>calls_duration</th>\n",
       "      <th>gb_used</th>\n",
       "      <th>messages</th>\n",
       "    </tr>\n",
       "  </thead>\n",
       "  <tbody>\n",
       "    <tr>\n",
       "      <th>0</th>\n",
       "      <td>1000</td>\n",
       "      <td>5</td>\n",
       "      <td>22.0</td>\n",
       "      <td>150.06</td>\n",
       "      <td>3.0</td>\n",
       "      <td>22.0</td>\n",
       "    </tr>\n",
       "    <tr>\n",
       "      <th>1</th>\n",
       "      <td>1000</td>\n",
       "      <td>6</td>\n",
       "      <td>43.0</td>\n",
       "      <td>158.90</td>\n",
       "      <td>23.0</td>\n",
       "      <td>60.0</td>\n",
       "    </tr>\n",
       "    <tr>\n",
       "      <th>2</th>\n",
       "      <td>1000</td>\n",
       "      <td>7</td>\n",
       "      <td>47.0</td>\n",
       "      <td>318.80</td>\n",
       "      <td>14.0</td>\n",
       "      <td>75.0</td>\n",
       "    </tr>\n",
       "    <tr>\n",
       "      <th>3</th>\n",
       "      <td>1000</td>\n",
       "      <td>8</td>\n",
       "      <td>52.0</td>\n",
       "      <td>389.87</td>\n",
       "      <td>14.0</td>\n",
       "      <td>81.0</td>\n",
       "    </tr>\n",
       "    <tr>\n",
       "      <th>4</th>\n",
       "      <td>1000</td>\n",
       "      <td>9</td>\n",
       "      <td>58.0</td>\n",
       "      <td>440.14</td>\n",
       "      <td>15.0</td>\n",
       "      <td>57.0</td>\n",
       "    </tr>\n",
       "  </tbody>\n",
       "</table>\n",
       "</div>"
      ],
      "text/plain": [
       "   user_id  month  calls_count  calls_duration  gb_used  messages\n",
       "0     1000      5         22.0          150.06      3.0      22.0\n",
       "1     1000      6         43.0          158.90     23.0      60.0\n",
       "2     1000      7         47.0          318.80     14.0      75.0\n",
       "3     1000      8         52.0          389.87     14.0      81.0\n",
       "4     1000      9         58.0          440.14     15.0      57.0"
      ]
     },
     "execution_count": 16,
     "metadata": {},
     "output_type": "execute_result"
    }
   ],
   "source": [
    "# формируем сводную таблицу со сводными данными по месяцам по различным видам трафика\n",
    "\n",
    "data = df_calls_group.join(df_internet_group, how='outer')\n",
    "data = data.join(df_messages_group, how='outer')\n",
    "\n",
    "# добавляем столбец с индексами в data_joint\n",
    "\n",
    "data = data.reset_index()\n",
    "data.head()"
   ]
  },
  {
   "cell_type": "code",
   "execution_count": 17,
   "metadata": {},
   "outputs": [
    {
     "data": {
      "text/html": [
       "<div>\n",
       "<style scoped>\n",
       "    .dataframe tbody tr th:only-of-type {\n",
       "        vertical-align: middle;\n",
       "    }\n",
       "\n",
       "    .dataframe tbody tr th {\n",
       "        vertical-align: top;\n",
       "    }\n",
       "\n",
       "    .dataframe thead th {\n",
       "        text-align: right;\n",
       "    }\n",
       "</style>\n",
       "<table border=\"1\" class=\"dataframe\">\n",
       "  <thead>\n",
       "    <tr style=\"text-align: right;\">\n",
       "      <th></th>\n",
       "      <th>messages_included</th>\n",
       "      <th>mb_per_month_included</th>\n",
       "      <th>minutes_included</th>\n",
       "      <th>rub_monthly_fee</th>\n",
       "      <th>rub_per_gb</th>\n",
       "      <th>rub_per_message</th>\n",
       "      <th>rub_per_minute</th>\n",
       "      <th>tariff</th>\n",
       "    </tr>\n",
       "  </thead>\n",
       "  <tbody>\n",
       "    <tr>\n",
       "      <th>0</th>\n",
       "      <td>50</td>\n",
       "      <td>15360</td>\n",
       "      <td>500</td>\n",
       "      <td>550</td>\n",
       "      <td>200</td>\n",
       "      <td>3</td>\n",
       "      <td>3</td>\n",
       "      <td>smart</td>\n",
       "    </tr>\n",
       "    <tr>\n",
       "      <th>1</th>\n",
       "      <td>1000</td>\n",
       "      <td>30720</td>\n",
       "      <td>3000</td>\n",
       "      <td>1950</td>\n",
       "      <td>150</td>\n",
       "      <td>1</td>\n",
       "      <td>1</td>\n",
       "      <td>ultra</td>\n",
       "    </tr>\n",
       "  </tbody>\n",
       "</table>\n",
       "</div>"
      ],
      "text/plain": [
       "   messages_included  mb_per_month_included  minutes_included  \\\n",
       "0                 50                  15360               500   \n",
       "1               1000                  30720              3000   \n",
       "\n",
       "   rub_monthly_fee  rub_per_gb  rub_per_message  rub_per_minute tariff  \n",
       "0              550         200                3               3  smart  \n",
       "1             1950         150                1               1  ultra  "
      ]
     },
     "execution_count": 17,
     "metadata": {},
     "output_type": "execute_result"
    }
   ],
   "source": [
    "# переименуем столбец из df_tariffs tariff_name в tariff для дальнейшего корректного объединения данных\n",
    "\n",
    "df_tariffs = df_tariffs.rename(columns={'tariff_name': 'tariff'})\n",
    "df_tariffs"
   ]
  },
  {
   "cell_type": "code",
   "execution_count": 18,
   "metadata": {},
   "outputs": [
    {
     "data": {
      "text/html": [
       "<div>\n",
       "<style scoped>\n",
       "    .dataframe tbody tr th:only-of-type {\n",
       "        vertical-align: middle;\n",
       "    }\n",
       "\n",
       "    .dataframe tbody tr th {\n",
       "        vertical-align: top;\n",
       "    }\n",
       "\n",
       "    .dataframe thead th {\n",
       "        text-align: right;\n",
       "    }\n",
       "</style>\n",
       "<table border=\"1\" class=\"dataframe\">\n",
       "  <thead>\n",
       "    <tr style=\"text-align: right;\">\n",
       "      <th></th>\n",
       "      <th>user_id</th>\n",
       "      <th>month</th>\n",
       "      <th>calls_count</th>\n",
       "      <th>calls_duration</th>\n",
       "      <th>gb_used</th>\n",
       "      <th>messages</th>\n",
       "      <th>age</th>\n",
       "      <th>churn_date</th>\n",
       "      <th>city</th>\n",
       "      <th>first_name</th>\n",
       "      <th>last_name</th>\n",
       "      <th>reg_date</th>\n",
       "      <th>tariff</th>\n",
       "      <th>messages_included</th>\n",
       "      <th>mb_per_month_included</th>\n",
       "      <th>minutes_included</th>\n",
       "      <th>rub_monthly_fee</th>\n",
       "      <th>rub_per_gb</th>\n",
       "      <th>rub_per_message</th>\n",
       "      <th>rub_per_minute</th>\n",
       "    </tr>\n",
       "  </thead>\n",
       "  <tbody>\n",
       "    <tr>\n",
       "      <th>0</th>\n",
       "      <td>1000</td>\n",
       "      <td>5.0</td>\n",
       "      <td>22.0</td>\n",
       "      <td>150.06</td>\n",
       "      <td>3.0</td>\n",
       "      <td>22.0</td>\n",
       "      <td>52</td>\n",
       "      <td>NaT</td>\n",
       "      <td>Краснодар</td>\n",
       "      <td>Рафаил</td>\n",
       "      <td>Верещагин</td>\n",
       "      <td>2018-05-25</td>\n",
       "      <td>ultra</td>\n",
       "      <td>1000</td>\n",
       "      <td>30720</td>\n",
       "      <td>3000</td>\n",
       "      <td>1950</td>\n",
       "      <td>150</td>\n",
       "      <td>1</td>\n",
       "      <td>1</td>\n",
       "    </tr>\n",
       "    <tr>\n",
       "      <th>1</th>\n",
       "      <td>1000</td>\n",
       "      <td>6.0</td>\n",
       "      <td>43.0</td>\n",
       "      <td>158.90</td>\n",
       "      <td>23.0</td>\n",
       "      <td>60.0</td>\n",
       "      <td>52</td>\n",
       "      <td>NaT</td>\n",
       "      <td>Краснодар</td>\n",
       "      <td>Рафаил</td>\n",
       "      <td>Верещагин</td>\n",
       "      <td>2018-05-25</td>\n",
       "      <td>ultra</td>\n",
       "      <td>1000</td>\n",
       "      <td>30720</td>\n",
       "      <td>3000</td>\n",
       "      <td>1950</td>\n",
       "      <td>150</td>\n",
       "      <td>1</td>\n",
       "      <td>1</td>\n",
       "    </tr>\n",
       "    <tr>\n",
       "      <th>2</th>\n",
       "      <td>1000</td>\n",
       "      <td>7.0</td>\n",
       "      <td>47.0</td>\n",
       "      <td>318.80</td>\n",
       "      <td>14.0</td>\n",
       "      <td>75.0</td>\n",
       "      <td>52</td>\n",
       "      <td>NaT</td>\n",
       "      <td>Краснодар</td>\n",
       "      <td>Рафаил</td>\n",
       "      <td>Верещагин</td>\n",
       "      <td>2018-05-25</td>\n",
       "      <td>ultra</td>\n",
       "      <td>1000</td>\n",
       "      <td>30720</td>\n",
       "      <td>3000</td>\n",
       "      <td>1950</td>\n",
       "      <td>150</td>\n",
       "      <td>1</td>\n",
       "      <td>1</td>\n",
       "    </tr>\n",
       "    <tr>\n",
       "      <th>3</th>\n",
       "      <td>1000</td>\n",
       "      <td>8.0</td>\n",
       "      <td>52.0</td>\n",
       "      <td>389.87</td>\n",
       "      <td>14.0</td>\n",
       "      <td>81.0</td>\n",
       "      <td>52</td>\n",
       "      <td>NaT</td>\n",
       "      <td>Краснодар</td>\n",
       "      <td>Рафаил</td>\n",
       "      <td>Верещагин</td>\n",
       "      <td>2018-05-25</td>\n",
       "      <td>ultra</td>\n",
       "      <td>1000</td>\n",
       "      <td>30720</td>\n",
       "      <td>3000</td>\n",
       "      <td>1950</td>\n",
       "      <td>150</td>\n",
       "      <td>1</td>\n",
       "      <td>1</td>\n",
       "    </tr>\n",
       "    <tr>\n",
       "      <th>4</th>\n",
       "      <td>1000</td>\n",
       "      <td>9.0</td>\n",
       "      <td>58.0</td>\n",
       "      <td>440.14</td>\n",
       "      <td>15.0</td>\n",
       "      <td>57.0</td>\n",
       "      <td>52</td>\n",
       "      <td>NaT</td>\n",
       "      <td>Краснодар</td>\n",
       "      <td>Рафаил</td>\n",
       "      <td>Верещагин</td>\n",
       "      <td>2018-05-25</td>\n",
       "      <td>ultra</td>\n",
       "      <td>1000</td>\n",
       "      <td>30720</td>\n",
       "      <td>3000</td>\n",
       "      <td>1950</td>\n",
       "      <td>150</td>\n",
       "      <td>1</td>\n",
       "      <td>1</td>\n",
       "    </tr>\n",
       "  </tbody>\n",
       "</table>\n",
       "</div>"
      ],
      "text/plain": [
       "   user_id  month  calls_count  calls_duration  gb_used  messages  age  \\\n",
       "0     1000    5.0         22.0          150.06      3.0      22.0   52   \n",
       "1     1000    6.0         43.0          158.90     23.0      60.0   52   \n",
       "2     1000    7.0         47.0          318.80     14.0      75.0   52   \n",
       "3     1000    8.0         52.0          389.87     14.0      81.0   52   \n",
       "4     1000    9.0         58.0          440.14     15.0      57.0   52   \n",
       "\n",
       "  churn_date       city first_name  last_name   reg_date tariff  \\\n",
       "0        NaT  Краснодар     Рафаил  Верещагин 2018-05-25  ultra   \n",
       "1        NaT  Краснодар     Рафаил  Верещагин 2018-05-25  ultra   \n",
       "2        NaT  Краснодар     Рафаил  Верещагин 2018-05-25  ultra   \n",
       "3        NaT  Краснодар     Рафаил  Верещагин 2018-05-25  ultra   \n",
       "4        NaT  Краснодар     Рафаил  Верещагин 2018-05-25  ultra   \n",
       "\n",
       "   messages_included  mb_per_month_included  minutes_included  \\\n",
       "0               1000                  30720              3000   \n",
       "1               1000                  30720              3000   \n",
       "2               1000                  30720              3000   \n",
       "3               1000                  30720              3000   \n",
       "4               1000                  30720              3000   \n",
       "\n",
       "   rub_monthly_fee  rub_per_gb  rub_per_message  rub_per_minute  \n",
       "0             1950         150                1               1  \n",
       "1             1950         150                1               1  \n",
       "2             1950         150                1               1  \n",
       "3             1950         150                1               1  \n",
       "4             1950         150                1               1  "
      ]
     },
     "execution_count": 18,
     "metadata": {},
     "output_type": "execute_result"
    }
   ],
   "source": [
    "# объединим в единый датасэт также информацию по пользователям и тарифам\n",
    "\n",
    "data = data.merge(df_users, on='user_id', how='outer')\n",
    "data = data.merge(df_tariffs, on='tariff', how='outer')\n",
    "data.head()"
   ]
  },
  {
   "cell_type": "code",
   "execution_count": 19,
   "metadata": {},
   "outputs": [
    {
     "data": {
      "text/plain": [
       "user_id                     0\n",
       "month                       2\n",
       "calls_count                42\n",
       "calls_duration             42\n",
       "gb_used                    13\n",
       "messages                  499\n",
       "age                         0\n",
       "churn_date               3027\n",
       "city                        0\n",
       "first_name                  0\n",
       "last_name                   0\n",
       "reg_date                    0\n",
       "tariff                      0\n",
       "messages_included           0\n",
       "mb_per_month_included       0\n",
       "minutes_included            0\n",
       "rub_monthly_fee             0\n",
       "rub_per_gb                  0\n",
       "rub_per_message             0\n",
       "rub_per_minute              0\n",
       "dtype: int64"
      ]
     },
     "execution_count": 19,
     "metadata": {},
     "output_type": "execute_result"
    }
   ],
   "source": [
    "# посмотрим. сколько пропусков появилось после объединения таблиц\n",
    "\n",
    "data.isna().sum()"
   ]
  },
  {
   "cell_type": "code",
   "execution_count": 20,
   "metadata": {},
   "outputs": [
    {
     "data": {
      "text/plain": [
       "(3216, 20)"
      ]
     },
     "execution_count": 20,
     "metadata": {},
     "output_type": "execute_result"
    }
   ],
   "source": [
    "data.shape"
   ]
  },
  {
   "cell_type": "code",
   "execution_count": 21,
   "metadata": {},
   "outputs": [
    {
     "data": {
      "text/plain": [
       "500"
      ]
     },
     "execution_count": 21,
     "metadata": {},
     "output_type": "execute_result"
    }
   ],
   "source": [
    "data.user_id.nunique()"
   ]
  },
  {
   "cell_type": "markdown",
   "metadata": {},
   "source": [
    "- Удалим только те строки, в которых образовались пустые значения по всем видам трафика, и, соответственно, вылезли пустые значения по столбцу month\n",
    "- Остальные пропуски, за исключением столбца churn_date, заменим на нули"
   ]
  },
  {
   "cell_type": "code",
   "execution_count": 22,
   "metadata": {},
   "outputs": [],
   "source": [
    "# отфильтруем тех пользователей, по которым вообще не было никакого трафика\n",
    "\n",
    "data = data[~data['month'].isna()]"
   ]
  },
  {
   "cell_type": "code",
   "execution_count": 23,
   "metadata": {},
   "outputs": [],
   "source": [
    "# наишем цикл для заполнения пропусков нулями в оставшихся столбцах\n",
    "\n",
    "columns = ['calls_count', 'calls_duration', 'gb_used', 'messages']\n",
    "\n",
    "for i in columns:\n",
    "    data[i] = data[i].fillna(0)"
   ]
  },
  {
   "cell_type": "code",
   "execution_count": 24,
   "metadata": {},
   "outputs": [
    {
     "data": {
      "text/plain": [
       "user_id                  True\n",
       "month                    True\n",
       "calls_count              True\n",
       "calls_duration           True\n",
       "gb_used                  True\n",
       "messages                 True\n",
       "age                      True\n",
       "city                     True\n",
       "first_name               True\n",
       "last_name                True\n",
       "reg_date                 True\n",
       "tariff                   True\n",
       "messages_included        True\n",
       "mb_per_month_included    True\n",
       "minutes_included         True\n",
       "rub_monthly_fee          True\n",
       "rub_per_gb               True\n",
       "rub_per_message          True\n",
       "rub_per_minute           True\n",
       "dtype: bool"
      ]
     },
     "execution_count": 24,
     "metadata": {},
     "output_type": "execute_result"
    }
   ],
   "source": [
    "# проверим корректность заполнения пропусков \n",
    "\n",
    "data.loc[:, data.columns != 'churn_date'].isna().sum() == 0"
   ]
  },
  {
   "cell_type": "code",
   "execution_count": 25,
   "metadata": {},
   "outputs": [],
   "source": [
    "# приведем столбец month к типу int\n",
    "\n",
    "data['month'] = data['month'].astype(int)"
   ]
  },
  {
   "cell_type": "code",
   "execution_count": 26,
   "metadata": {},
   "outputs": [],
   "source": [
    "# рассчитаем в новом столбце разницу между включенными в тариф и использованнными минутами\n",
    "\n",
    "data['minutes_above'] = data['minutes_included'] - data['calls_duration']\n",
    "\n",
    "# неиспользованные минуты заменим нулями\n",
    "\n",
    "data.loc[(data['minutes_above'] > 0), 'minutes_above'] = 0\n",
    "\n",
    "# оставшиеся значения в столбце возьмем по модулю (= минуты сверх лимита)\n",
    "\n",
    "data.loc[(data['minutes_above'] < 0), 'minutes_above'] = abs(data.loc[(data['minutes_above'] < 0), 'minutes_above'])"
   ]
  },
  {
   "cell_type": "code",
   "execution_count": 27,
   "metadata": {},
   "outputs": [],
   "source": [
    "# создадим еще 2 аналогичных столбца по сообщениям и интернет-трафику, и произведем теже манипуляции\n",
    "\n",
    "data['gb_above'] = np.ceil(data['mb_per_month_included'] / 1024) - data['gb_used']\n",
    "data.loc[(data['gb_above'] > 0), 'gb_above'] = 0\n",
    "data.loc[(data['gb_above'] < 0), 'gb_above'] = abs(data.loc[(data['gb_above'] < 0), 'gb_above'])\n",
    "\n",
    "data['messages_above'] = data['messages_included'] - data['messages']\n",
    "data.loc[(data['messages_above'] > 0), 'messages_above'] = 0\n",
    "data.loc[(data['messages_above'] < 0), 'messages_above'] = abs(data.loc[(data['messages_above'] < 0), 'messages_above'])"
   ]
  },
  {
   "cell_type": "code",
   "execution_count": 28,
   "metadata": {},
   "outputs": [
    {
     "data": {
      "text/plain": [
       "0       1950.0\n",
       "1       1950.0\n",
       "2       1950.0\n",
       "3       1950.0\n",
       "4       1950.0\n",
       "         ...  \n",
       "3210    1750.0\n",
       "3211     550.0\n",
       "3212    1150.0\n",
       "3213    1406.5\n",
       "3214     598.0\n",
       "Name: revenue, Length: 3214, dtype: float64"
      ]
     },
     "execution_count": 28,
     "metadata": {},
     "output_type": "execute_result"
    }
   ],
   "source": [
    "# создаем новый столбец и рассчитываем помесячную выручку с каждого пользователя\n",
    "\n",
    "data['revenue'] = (data['minutes_above'] * data['rub_per_minute']\n",
    "    + data['gb_above'] * data['rub_per_gb']\n",
    "    + data['messages_above'] * data['rub_per_message']\n",
    "    + data['rub_monthly_fee'])\n",
    "data['revenue']"
   ]
  },
  {
   "cell_type": "code",
   "execution_count": 29,
   "metadata": {},
   "outputs": [
    {
     "data": {
      "text/plain": [
       "count    3214.000000\n",
       "mean     1506.318923\n",
       "std       792.756078\n",
       "min       550.000000\n",
       "25%       740.717500\n",
       "50%      1564.190000\n",
       "75%      1950.000000\n",
       "max      6613.100000\n",
       "Name: revenue, dtype: float64"
      ]
     },
     "execution_count": 29,
     "metadata": {},
     "output_type": "execute_result"
    }
   ],
   "source": [
    "data['revenue'].describe()"
   ]
  },
  {
   "cell_type": "markdown",
   "metadata": {},
   "source": [
    "### Вывод 3\n",
    "\n",
    "1) Данные 3-х датасэтов по трафику (звонки, сообщения, интернет) были приведены к месячным значениям\n",
    "\n",
    "2) Все 5 датасэтов объединены в единый датасэт data\n",
    "\n",
    "3) Пропущенные значения, появившиеся в результате объединения, отфильтрованы из датасэта по тем строкам, где есть пропуски по всем 3 видам трафика; остальные пропуски заменены на нулевые значения\n",
    "\n",
    "3) В финальном датасэте data добавлены новые столбцы и произведены расчеты по каждому пользователю:\n",
    "\n",
    "- **calls_count, calls_duration** - количество сделанных звонков и израсходованных минут разговора по месяцам\n",
    "- **messages** - количество отправленных сообщений по месяцам\n",
    "- **gb_used** - объем израсходованного интернет-трафика по месяцам\n",
    "- **revenue** - помесячная выручка "
   ]
  },
  {
   "cell_type": "markdown",
   "metadata": {},
   "source": [
    "## Анализ данных"
   ]
  },
  {
   "cell_type": "code",
   "execution_count": 30,
   "metadata": {},
   "outputs": [
    {
     "data": {
      "text/html": [
       "<div>\n",
       "<style scoped>\n",
       "    .dataframe tbody tr th:only-of-type {\n",
       "        vertical-align: middle;\n",
       "    }\n",
       "\n",
       "    .dataframe tbody tr th {\n",
       "        vertical-align: top;\n",
       "    }\n",
       "\n",
       "    .dataframe thead th {\n",
       "        text-align: right;\n",
       "    }\n",
       "</style>\n",
       "<table border=\"1\" class=\"dataframe\">\n",
       "  <thead>\n",
       "    <tr style=\"text-align: right;\">\n",
       "      <th></th>\n",
       "      <th>messages_included</th>\n",
       "      <th>mb_per_month_included</th>\n",
       "      <th>minutes_included</th>\n",
       "      <th>rub_monthly_fee</th>\n",
       "      <th>rub_per_gb</th>\n",
       "      <th>rub_per_message</th>\n",
       "      <th>rub_per_minute</th>\n",
       "      <th>tariff</th>\n",
       "    </tr>\n",
       "  </thead>\n",
       "  <tbody>\n",
       "    <tr>\n",
       "      <th>0</th>\n",
       "      <td>50</td>\n",
       "      <td>15360</td>\n",
       "      <td>500</td>\n",
       "      <td>550</td>\n",
       "      <td>200</td>\n",
       "      <td>3</td>\n",
       "      <td>3</td>\n",
       "      <td>smart</td>\n",
       "    </tr>\n",
       "    <tr>\n",
       "      <th>1</th>\n",
       "      <td>1000</td>\n",
       "      <td>30720</td>\n",
       "      <td>3000</td>\n",
       "      <td>1950</td>\n",
       "      <td>150</td>\n",
       "      <td>1</td>\n",
       "      <td>1</td>\n",
       "      <td>ultra</td>\n",
       "    </tr>\n",
       "  </tbody>\n",
       "</table>\n",
       "</div>"
      ],
      "text/plain": [
       "   messages_included  mb_per_month_included  minutes_included  \\\n",
       "0                 50                  15360               500   \n",
       "1               1000                  30720              3000   \n",
       "\n",
       "   rub_monthly_fee  rub_per_gb  rub_per_message  rub_per_minute tariff  \n",
       "0              550         200                3               3  smart  \n",
       "1             1950         150                1               1  ultra  "
      ]
     },
     "execution_count": 30,
     "metadata": {},
     "output_type": "execute_result"
    }
   ],
   "source": [
    "df_tariffs"
   ]
  },
  {
   "cell_type": "markdown",
   "metadata": {},
   "source": [
    "### Расчет среднего значения"
   ]
  },
  {
   "cell_type": "code",
   "execution_count": 31,
   "metadata": {
    "scrolled": true
   },
   "outputs": [
    {
     "data": {
      "text/html": [
       "<div>\n",
       "<style scoped>\n",
       "    .dataframe tbody tr th:only-of-type {\n",
       "        vertical-align: middle;\n",
       "    }\n",
       "\n",
       "    .dataframe tbody tr th {\n",
       "        vertical-align: top;\n",
       "    }\n",
       "\n",
       "    .dataframe thead th {\n",
       "        text-align: right;\n",
       "    }\n",
       "</style>\n",
       "<table border=\"1\" class=\"dataframe\">\n",
       "  <thead>\n",
       "    <tr style=\"text-align: right;\">\n",
       "      <th></th>\n",
       "      <th></th>\n",
       "      <th>calls_duration</th>\n",
       "      <th>gb_used</th>\n",
       "      <th>messages</th>\n",
       "    </tr>\n",
       "    <tr>\n",
       "      <th>tariff</th>\n",
       "      <th>month</th>\n",
       "      <th></th>\n",
       "      <th></th>\n",
       "      <th></th>\n",
       "    </tr>\n",
       "  </thead>\n",
       "  <tbody>\n",
       "    <tr>\n",
       "      <th rowspan=\"12\" valign=\"top\">smart</th>\n",
       "      <th>1</th>\n",
       "      <td>193.0</td>\n",
       "      <td>9.0</td>\n",
       "      <td>18.0</td>\n",
       "    </tr>\n",
       "    <tr>\n",
       "      <th>2</th>\n",
       "      <td>283.0</td>\n",
       "      <td>12.0</td>\n",
       "      <td>24.0</td>\n",
       "    </tr>\n",
       "    <tr>\n",
       "      <th>3</th>\n",
       "      <td>368.0</td>\n",
       "      <td>15.0</td>\n",
       "      <td>32.0</td>\n",
       "    </tr>\n",
       "    <tr>\n",
       "      <th>4</th>\n",
       "      <td>346.0</td>\n",
       "      <td>14.0</td>\n",
       "      <td>31.0</td>\n",
       "    </tr>\n",
       "    <tr>\n",
       "      <th>5</th>\n",
       "      <td>365.0</td>\n",
       "      <td>16.0</td>\n",
       "      <td>34.0</td>\n",
       "    </tr>\n",
       "    <tr>\n",
       "      <th>6</th>\n",
       "      <td>373.0</td>\n",
       "      <td>16.0</td>\n",
       "      <td>33.0</td>\n",
       "    </tr>\n",
       "    <tr>\n",
       "      <th>7</th>\n",
       "      <td>385.0</td>\n",
       "      <td>16.0</td>\n",
       "      <td>34.0</td>\n",
       "    </tr>\n",
       "    <tr>\n",
       "      <th>8</th>\n",
       "      <td>398.0</td>\n",
       "      <td>17.0</td>\n",
       "      <td>34.0</td>\n",
       "    </tr>\n",
       "    <tr>\n",
       "      <th>9</th>\n",
       "      <td>405.0</td>\n",
       "      <td>16.0</td>\n",
       "      <td>34.0</td>\n",
       "    </tr>\n",
       "    <tr>\n",
       "      <th>10</th>\n",
       "      <td>402.0</td>\n",
       "      <td>17.0</td>\n",
       "      <td>34.0</td>\n",
       "    </tr>\n",
       "    <tr>\n",
       "      <th>11</th>\n",
       "      <td>411.0</td>\n",
       "      <td>17.0</td>\n",
       "      <td>34.0</td>\n",
       "    </tr>\n",
       "    <tr>\n",
       "      <th>12</th>\n",
       "      <td>452.0</td>\n",
       "      <td>18.0</td>\n",
       "      <td>36.0</td>\n",
       "    </tr>\n",
       "    <tr>\n",
       "      <th rowspan=\"12\" valign=\"top\">ultra</th>\n",
       "      <th>1</th>\n",
       "      <td>405.0</td>\n",
       "      <td>13.0</td>\n",
       "      <td>34.0</td>\n",
       "    </tr>\n",
       "    <tr>\n",
       "      <th>2</th>\n",
       "      <td>281.0</td>\n",
       "      <td>12.0</td>\n",
       "      <td>22.0</td>\n",
       "    </tr>\n",
       "    <tr>\n",
       "      <th>3</th>\n",
       "      <td>462.0</td>\n",
       "      <td>18.0</td>\n",
       "      <td>32.0</td>\n",
       "    </tr>\n",
       "    <tr>\n",
       "      <th>4</th>\n",
       "      <td>432.0</td>\n",
       "      <td>17.0</td>\n",
       "      <td>32.0</td>\n",
       "    </tr>\n",
       "    <tr>\n",
       "      <th>5</th>\n",
       "      <td>482.0</td>\n",
       "      <td>19.0</td>\n",
       "      <td>38.0</td>\n",
       "    </tr>\n",
       "    <tr>\n",
       "      <th>6</th>\n",
       "      <td>453.0</td>\n",
       "      <td>19.0</td>\n",
       "      <td>42.0</td>\n",
       "    </tr>\n",
       "    <tr>\n",
       "      <th>7</th>\n",
       "      <td>515.0</td>\n",
       "      <td>21.0</td>\n",
       "      <td>50.0</td>\n",
       "    </tr>\n",
       "    <tr>\n",
       "      <th>8</th>\n",
       "      <td>482.0</td>\n",
       "      <td>20.0</td>\n",
       "      <td>48.0</td>\n",
       "    </tr>\n",
       "    <tr>\n",
       "      <th>9</th>\n",
       "      <td>509.0</td>\n",
       "      <td>19.0</td>\n",
       "      <td>52.0</td>\n",
       "    </tr>\n",
       "    <tr>\n",
       "      <th>10</th>\n",
       "      <td>527.0</td>\n",
       "      <td>20.0</td>\n",
       "      <td>58.0</td>\n",
       "    </tr>\n",
       "    <tr>\n",
       "      <th>11</th>\n",
       "      <td>511.0</td>\n",
       "      <td>20.0</td>\n",
       "      <td>56.0</td>\n",
       "    </tr>\n",
       "    <tr>\n",
       "      <th>12</th>\n",
       "      <td>560.0</td>\n",
       "      <td>22.0</td>\n",
       "      <td>61.0</td>\n",
       "    </tr>\n",
       "  </tbody>\n",
       "</table>\n",
       "</div>"
      ],
      "text/plain": [
       "              calls_duration  gb_used  messages\n",
       "tariff month                                   \n",
       "smart  1               193.0      9.0      18.0\n",
       "       2               283.0     12.0      24.0\n",
       "       3               368.0     15.0      32.0\n",
       "       4               346.0     14.0      31.0\n",
       "       5               365.0     16.0      34.0\n",
       "       6               373.0     16.0      33.0\n",
       "       7               385.0     16.0      34.0\n",
       "       8               398.0     17.0      34.0\n",
       "       9               405.0     16.0      34.0\n",
       "       10              402.0     17.0      34.0\n",
       "       11              411.0     17.0      34.0\n",
       "       12              452.0     18.0      36.0\n",
       "ultra  1               405.0     13.0      34.0\n",
       "       2               281.0     12.0      22.0\n",
       "       3               462.0     18.0      32.0\n",
       "       4               432.0     17.0      32.0\n",
       "       5               482.0     19.0      38.0\n",
       "       6               453.0     19.0      42.0\n",
       "       7               515.0     21.0      50.0\n",
       "       8               482.0     20.0      48.0\n",
       "       9               509.0     19.0      52.0\n",
       "       10              527.0     20.0      58.0\n",
       "       11              511.0     20.0      56.0\n",
       "       12              560.0     22.0      61.0"
      ]
     },
     "execution_count": 31,
     "metadata": {},
     "output_type": "execute_result"
    }
   ],
   "source": [
    "# группируем датасэт для расчета средних по различным видам трафика\n",
    "\n",
    "data_means = round(\n",
    "    data[['month', 'calls_duration', 'gb_used', 'messages', 'tariff']]\n",
    "    .groupby(['tariff', 'month']).mean(), 0\n",
    ")\n",
    "\n",
    "data_means"
   ]
  },
  {
   "cell_type": "code",
   "execution_count": 32,
   "metadata": {},
   "outputs": [],
   "source": [
    "# для оценки среднего количества используемого трафика по 2-м тарифам напишем функцию\n",
    "\n",
    "def graph_medium_traffic(col, traffic, ylabel):\n",
    "    x=sorted(data['month'].unique())\n",
    "    y=data_means[col].iloc[:12]\n",
    "    y1=data_means[col].iloc[12:]\n",
    "    f1 = 'Среднее кол-во '\n",
    "    f2 = ' в зависимости от тарифа'\n",
    "    title = f1 + traffic + f2\n",
    "    plt.bar(x, y1, label='ultra')\n",
    "    plt.bar(x, y, label='smart')\n",
    "    plt.title(title)\n",
    "    plt.xlabel('месяц')\n",
    "    plt.ylabel(ylabel)\n",
    "    plt.legend()\n",
    "    plt.show()    "
   ]
  },
  {
   "cell_type": "code",
   "execution_count": 33,
   "metadata": {},
   "outputs": [
    {
     "data": {
      "image/png": "[encoded data removed]",
      "text/plain": [
       "<Figure size 640x480 with 1 Axes>"
      ]
     },
     "metadata": {},
     "output_type": "display_data"
    }
   ],
   "source": [
    "# посмотрим на графике, как соотносятся средние по кол-ву использованных минут в зависимости от тарифа\n",
    "\n",
    "graph_medium_traffic('calls_duration', 'использованных минут', 'минуты')"
   ]
  },
  {
   "cell_type": "code",
   "execution_count": 34,
   "metadata": {},
   "outputs": [
    {
     "name": "stdout",
     "output_type": "stream",
     "text": [
      "Среднее количество использованных минут за год по тарифу smart: 365\n"
     ]
    }
   ],
   "source": [
    "print('Среднее количество использованных минут за год по тарифу smart:',\n",
    "      round(data_means['calls_duration'].iloc[:12].mean()))"
   ]
  },
  {
   "cell_type": "code",
   "execution_count": 35,
   "metadata": {
    "scrolled": true
   },
   "outputs": [
    {
     "name": "stdout",
     "output_type": "stream",
     "text": [
      "Среднее количество использованных минут за год по тарифу ultra: 468\n"
     ]
    }
   ],
   "source": [
    "print('Среднее количество использованных минут за год по тарифу ultra:',\n",
    "      round(data_means['calls_duration'].iloc[12:].mean()))"
   ]
  },
  {
   "cell_type": "markdown",
   "metadata": {},
   "source": [
    "- Видна тенденция к росту среднего количества использованных минут в течение года по тарифу smart (от 200-300 минут в начале года до 400-450 минут в конце года)\n",
    "- И не такая очевидная, но все же тоже тенденция к росту (начиная с апреля) по тарифу ultra\n",
    "- Примечательно, что если по тарифу smart пользователи в среднем выбирают 369 минут из 500 включенных (более 70%), то по тарифу ulta - всего в среднем 477 минут из 3000 включенных (чуть более 15%)"
   ]
  },
  {
   "cell_type": "code",
   "execution_count": 36,
   "metadata": {},
   "outputs": [
    {
     "data": {
      "image/png": "[encoded data removed]",
      "text/plain": [
       "<Figure size 640x480 with 1 Axes>"
      ]
     },
     "metadata": {},
     "output_type": "display_data"
    }
   ],
   "source": [
    "# посмотрим на графике, как соотносятся средние по кол-ву использованных гб в зависимости от тарифа\n",
    "\n",
    "graph_medium_traffic('gb_used', 'использованных гб', 'гб')"
   ]
  },
  {
   "cell_type": "code",
   "execution_count": 37,
   "metadata": {},
   "outputs": [
    {
     "name": "stdout",
     "output_type": "stream",
     "text": [
      "Среднее количество использованных гб за год по тарифу smart: 15.0\n"
     ]
    }
   ],
   "source": [
    "print('Среднее количество использованных гб за год по тарифу smart:',\n",
    "      round(data_means['gb_used'].iloc[:12].mean(), 0))"
   ]
  },
  {
   "cell_type": "code",
   "execution_count": 38,
   "metadata": {},
   "outputs": [
    {
     "name": "stdout",
     "output_type": "stream",
     "text": [
      "Среднее количество использованных гб за год по тарифу ultra: 18.0\n"
     ]
    }
   ],
   "source": [
    "print('Среднее количество использованных гб за год по тарифу ultra:',\n",
    "      round(data_means['gb_used'].iloc[12:].mean(), 0))"
   ]
  },
  {
   "cell_type": "markdown",
   "metadata": {},
   "source": [
    "- Видна тенденция к росту среднего количества использованных гб в течение года по обоим тарифам: от 9 до 18 гб по тарифу smart и от 14 до 22 гб по тарифу ultra\n",
    "- Также, как и по минутам пользователи тарифа smart выбирают намного больше гб из включенных в тариф: в среднем за год 15 из 15 гб против 18 из 30 гб по тарифу ultra"
   ]
  },
  {
   "cell_type": "code",
   "execution_count": 39,
   "metadata": {},
   "outputs": [
    {
     "data": {
      "image/png": "[encoded data removed]",
      "text/plain": [
       "<Figure size 640x480 with 1 Axes>"
      ]
     },
     "metadata": {},
     "output_type": "display_data"
    }
   ],
   "source": [
    "# посмотрим на графике, как соотносятся средние по кол-ву отправленных сообщений в зависимости от тарифа\n",
    "\n",
    "graph_medium_traffic('messages', 'отправленных сообщений', 'сообщения')"
   ]
  },
  {
   "cell_type": "code",
   "execution_count": 40,
   "metadata": {},
   "outputs": [
    {
     "name": "stdout",
     "output_type": "stream",
     "text": [
      "Среднее количество отправленных сообщений за год по тарифу smart: 32.0\n"
     ]
    }
   ],
   "source": [
    "print('Среднее количество отправленных сообщений за год по тарифу smart:',\n",
    "      round(data_means['messages'].iloc[:12].mean(), 0))"
   ]
  },
  {
   "cell_type": "code",
   "execution_count": 41,
   "metadata": {},
   "outputs": [
    {
     "name": "stdout",
     "output_type": "stream",
     "text": [
      "Среднее количество отправленных сообщений за год по тарифу ultra: 44.0\n"
     ]
    }
   ],
   "source": [
    "print('Среднее количество отправленных сообщений за год по тарифу ultra:',\n",
    "      round(data_means['messages'].iloc[12:].mean(), 0))"
   ]
  },
  {
   "cell_type": "markdown",
   "metadata": {},
   "source": [
    "- Видна тенденция к росту среднего количества отправленных сообщений в течение года по обоим тарифам: от 20 до 42 сообщений по тарифу smart и от 43 до 72 сообщений по тарифу ultra\n",
    "- Также, как и по минутам и по гб пользователи тарифа smart выбирают намного больше сообщений из включенных в тариф: в среднем за год 36 из 50 против 55 из 100 по тарифу ultra"
   ]
  },
  {
   "cell_type": "markdown",
   "metadata": {},
   "source": [
    "### Расчет дисперсии"
   ]
  },
  {
   "cell_type": "code",
   "execution_count": 42,
   "metadata": {},
   "outputs": [
    {
     "data": {
      "text/html": [
       "<div>\n",
       "<style scoped>\n",
       "    .dataframe tbody tr th:only-of-type {\n",
       "        vertical-align: middle;\n",
       "    }\n",
       "\n",
       "    .dataframe tbody tr th {\n",
       "        vertical-align: top;\n",
       "    }\n",
       "\n",
       "    .dataframe thead th {\n",
       "        text-align: right;\n",
       "    }\n",
       "</style>\n",
       "<table border=\"1\" class=\"dataframe\">\n",
       "  <thead>\n",
       "    <tr style=\"text-align: right;\">\n",
       "      <th></th>\n",
       "      <th></th>\n",
       "      <th>calls_duration</th>\n",
       "      <th>gb_used</th>\n",
       "      <th>messages</th>\n",
       "    </tr>\n",
       "    <tr>\n",
       "      <th>tariff</th>\n",
       "      <th>month</th>\n",
       "      <th></th>\n",
       "      <th></th>\n",
       "      <th></th>\n",
       "    </tr>\n",
       "  </thead>\n",
       "  <tbody>\n",
       "    <tr>\n",
       "      <th rowspan=\"12\" valign=\"top\">smart</th>\n",
       "      <th>1</th>\n",
       "      <td>20782.0</td>\n",
       "      <td>38.0</td>\n",
       "      <td>255.0</td>\n",
       "    </tr>\n",
       "    <tr>\n",
       "      <th>2</th>\n",
       "      <td>32189.0</td>\n",
       "      <td>37.0</td>\n",
       "      <td>465.0</td>\n",
       "    </tr>\n",
       "    <tr>\n",
       "      <th>3</th>\n",
       "      <td>32528.0</td>\n",
       "      <td>32.0</td>\n",
       "      <td>709.0</td>\n",
       "    </tr>\n",
       "    <tr>\n",
       "      <th>4</th>\n",
       "      <td>30735.0</td>\n",
       "      <td>31.0</td>\n",
       "      <td>597.0</td>\n",
       "    </tr>\n",
       "    <tr>\n",
       "      <th>5</th>\n",
       "      <td>30946.0</td>\n",
       "      <td>34.0</td>\n",
       "      <td>726.0</td>\n",
       "    </tr>\n",
       "    <tr>\n",
       "      <th>6</th>\n",
       "      <td>27279.0</td>\n",
       "      <td>32.0</td>\n",
       "      <td>802.0</td>\n",
       "    </tr>\n",
       "    <tr>\n",
       "      <th>7</th>\n",
       "      <td>28672.0</td>\n",
       "      <td>33.0</td>\n",
       "      <td>796.0</td>\n",
       "    </tr>\n",
       "    <tr>\n",
       "      <th>8</th>\n",
       "      <td>30999.0</td>\n",
       "      <td>30.0</td>\n",
       "      <td>835.0</td>\n",
       "    </tr>\n",
       "    <tr>\n",
       "      <th>9</th>\n",
       "      <td>29911.0</td>\n",
       "      <td>26.0</td>\n",
       "      <td>788.0</td>\n",
       "    </tr>\n",
       "    <tr>\n",
       "      <th>10</th>\n",
       "      <td>31571.0</td>\n",
       "      <td>33.0</td>\n",
       "      <td>813.0</td>\n",
       "    </tr>\n",
       "    <tr>\n",
       "      <th>11</th>\n",
       "      <td>28162.0</td>\n",
       "      <td>27.0</td>\n",
       "      <td>803.0</td>\n",
       "    </tr>\n",
       "    <tr>\n",
       "      <th>12</th>\n",
       "      <td>35412.0</td>\n",
       "      <td>30.0</td>\n",
       "      <td>932.0</td>\n",
       "    </tr>\n",
       "    <tr>\n",
       "      <th rowspan=\"12\" valign=\"top\">ultra</th>\n",
       "      <th>1</th>\n",
       "      <td>57630.0</td>\n",
       "      <td>40.0</td>\n",
       "      <td>836.0</td>\n",
       "    </tr>\n",
       "    <tr>\n",
       "      <th>2</th>\n",
       "      <td>75638.0</td>\n",
       "      <td>105.0</td>\n",
       "      <td>687.0</td>\n",
       "    </tr>\n",
       "    <tr>\n",
       "      <th>3</th>\n",
       "      <td>96963.0</td>\n",
       "      <td>111.0</td>\n",
       "      <td>1686.0</td>\n",
       "    </tr>\n",
       "    <tr>\n",
       "      <th>4</th>\n",
       "      <td>62854.0</td>\n",
       "      <td>88.0</td>\n",
       "      <td>1382.0</td>\n",
       "    </tr>\n",
       "    <tr>\n",
       "      <th>5</th>\n",
       "      <td>73667.0</td>\n",
       "      <td>94.0</td>\n",
       "      <td>1600.0</td>\n",
       "    </tr>\n",
       "    <tr>\n",
       "      <th>6</th>\n",
       "      <td>81105.0</td>\n",
       "      <td>81.0</td>\n",
       "      <td>1963.0</td>\n",
       "    </tr>\n",
       "    <tr>\n",
       "      <th>7</th>\n",
       "      <td>83247.0</td>\n",
       "      <td>95.0</td>\n",
       "      <td>2346.0</td>\n",
       "    </tr>\n",
       "    <tr>\n",
       "      <th>8</th>\n",
       "      <td>86371.0</td>\n",
       "      <td>104.0</td>\n",
       "      <td>2151.0</td>\n",
       "    </tr>\n",
       "    <tr>\n",
       "      <th>9</th>\n",
       "      <td>93263.0</td>\n",
       "      <td>86.0</td>\n",
       "      <td>2134.0</td>\n",
       "    </tr>\n",
       "    <tr>\n",
       "      <th>10</th>\n",
       "      <td>94111.0</td>\n",
       "      <td>91.0</td>\n",
       "      <td>2675.0</td>\n",
       "    </tr>\n",
       "    <tr>\n",
       "      <th>11</th>\n",
       "      <td>85496.0</td>\n",
       "      <td>93.0</td>\n",
       "      <td>2458.0</td>\n",
       "    </tr>\n",
       "    <tr>\n",
       "      <th>12</th>\n",
       "      <td>103545.0</td>\n",
       "      <td>102.0</td>\n",
       "      <td>2663.0</td>\n",
       "    </tr>\n",
       "  </tbody>\n",
       "</table>\n",
       "</div>"
      ],
      "text/plain": [
       "              calls_duration  gb_used  messages\n",
       "tariff month                                   \n",
       "smart  1             20782.0     38.0     255.0\n",
       "       2             32189.0     37.0     465.0\n",
       "       3             32528.0     32.0     709.0\n",
       "       4             30735.0     31.0     597.0\n",
       "       5             30946.0     34.0     726.0\n",
       "       6             27279.0     32.0     802.0\n",
       "       7             28672.0     33.0     796.0\n",
       "       8             30999.0     30.0     835.0\n",
       "       9             29911.0     26.0     788.0\n",
       "       10            31571.0     33.0     813.0\n",
       "       11            28162.0     27.0     803.0\n",
       "       12            35412.0     30.0     932.0\n",
       "ultra  1             57630.0     40.0     836.0\n",
       "       2             75638.0    105.0     687.0\n",
       "       3             96963.0    111.0    1686.0\n",
       "       4             62854.0     88.0    1382.0\n",
       "       5             73667.0     94.0    1600.0\n",
       "       6             81105.0     81.0    1963.0\n",
       "       7             83247.0     95.0    2346.0\n",
       "       8             86371.0    104.0    2151.0\n",
       "       9             93263.0     86.0    2134.0\n",
       "       10            94111.0     91.0    2675.0\n",
       "       11            85496.0     93.0    2458.0\n",
       "       12           103545.0    102.0    2663.0"
      ]
     },
     "execution_count": 42,
     "metadata": {},
     "output_type": "execute_result"
    }
   ],
   "source": [
    "# группируем датасэт для расчета дисперсии по различным видам трафика\n",
    "\n",
    "data_var = round(\n",
    "    data[['month', 'calls_duration', 'gb_used', 'messages', 'tariff']]\n",
    "    .groupby(['tariff', 'month'])[['calls_duration', 'gb_used', 'messages']].apply(np.var), 0\n",
    ")\n",
    "\n",
    "data_var"
   ]
  },
  {
   "cell_type": "markdown",
   "metadata": {},
   "source": [
    "### Расчет СКО"
   ]
  },
  {
   "cell_type": "code",
   "execution_count": 43,
   "metadata": {},
   "outputs": [
    {
     "data": {
      "text/html": [
       "<div>\n",
       "<style scoped>\n",
       "    .dataframe tbody tr th:only-of-type {\n",
       "        vertical-align: middle;\n",
       "    }\n",
       "\n",
       "    .dataframe tbody tr th {\n",
       "        vertical-align: top;\n",
       "    }\n",
       "\n",
       "    .dataframe thead th {\n",
       "        text-align: right;\n",
       "    }\n",
       "</style>\n",
       "<table border=\"1\" class=\"dataframe\">\n",
       "  <thead>\n",
       "    <tr style=\"text-align: right;\">\n",
       "      <th></th>\n",
       "      <th></th>\n",
       "      <th>calls_duration</th>\n",
       "      <th>gb_used</th>\n",
       "      <th>messages</th>\n",
       "    </tr>\n",
       "    <tr>\n",
       "      <th>tariff</th>\n",
       "      <th>month</th>\n",
       "      <th></th>\n",
       "      <th></th>\n",
       "      <th></th>\n",
       "    </tr>\n",
       "  </thead>\n",
       "  <tbody>\n",
       "    <tr>\n",
       "      <th rowspan=\"12\" valign=\"top\">smart</th>\n",
       "      <th>1</th>\n",
       "      <td>144.0</td>\n",
       "      <td>6.0</td>\n",
       "      <td>16.0</td>\n",
       "    </tr>\n",
       "    <tr>\n",
       "      <th>2</th>\n",
       "      <td>179.0</td>\n",
       "      <td>6.0</td>\n",
       "      <td>22.0</td>\n",
       "    </tr>\n",
       "    <tr>\n",
       "      <th>3</th>\n",
       "      <td>180.0</td>\n",
       "      <td>6.0</td>\n",
       "      <td>27.0</td>\n",
       "    </tr>\n",
       "    <tr>\n",
       "      <th>4</th>\n",
       "      <td>175.0</td>\n",
       "      <td>6.0</td>\n",
       "      <td>24.0</td>\n",
       "    </tr>\n",
       "    <tr>\n",
       "      <th>5</th>\n",
       "      <td>176.0</td>\n",
       "      <td>6.0</td>\n",
       "      <td>27.0</td>\n",
       "    </tr>\n",
       "    <tr>\n",
       "      <th>6</th>\n",
       "      <td>165.0</td>\n",
       "      <td>6.0</td>\n",
       "      <td>28.0</td>\n",
       "    </tr>\n",
       "    <tr>\n",
       "      <th>7</th>\n",
       "      <td>169.0</td>\n",
       "      <td>6.0</td>\n",
       "      <td>28.0</td>\n",
       "    </tr>\n",
       "    <tr>\n",
       "      <th>8</th>\n",
       "      <td>176.0</td>\n",
       "      <td>5.0</td>\n",
       "      <td>29.0</td>\n",
       "    </tr>\n",
       "    <tr>\n",
       "      <th>9</th>\n",
       "      <td>173.0</td>\n",
       "      <td>5.0</td>\n",
       "      <td>28.0</td>\n",
       "    </tr>\n",
       "    <tr>\n",
       "      <th>10</th>\n",
       "      <td>178.0</td>\n",
       "      <td>6.0</td>\n",
       "      <td>29.0</td>\n",
       "    </tr>\n",
       "    <tr>\n",
       "      <th>11</th>\n",
       "      <td>168.0</td>\n",
       "      <td>5.0</td>\n",
       "      <td>28.0</td>\n",
       "    </tr>\n",
       "    <tr>\n",
       "      <th>12</th>\n",
       "      <td>188.0</td>\n",
       "      <td>5.0</td>\n",
       "      <td>31.0</td>\n",
       "    </tr>\n",
       "    <tr>\n",
       "      <th rowspan=\"12\" valign=\"top\">ultra</th>\n",
       "      <th>1</th>\n",
       "      <td>240.0</td>\n",
       "      <td>6.0</td>\n",
       "      <td>29.0</td>\n",
       "    </tr>\n",
       "    <tr>\n",
       "      <th>2</th>\n",
       "      <td>275.0</td>\n",
       "      <td>10.0</td>\n",
       "      <td>26.0</td>\n",
       "    </tr>\n",
       "    <tr>\n",
       "      <th>3</th>\n",
       "      <td>311.0</td>\n",
       "      <td>11.0</td>\n",
       "      <td>41.0</td>\n",
       "    </tr>\n",
       "    <tr>\n",
       "      <th>4</th>\n",
       "      <td>251.0</td>\n",
       "      <td>9.0</td>\n",
       "      <td>37.0</td>\n",
       "    </tr>\n",
       "    <tr>\n",
       "      <th>5</th>\n",
       "      <td>271.0</td>\n",
       "      <td>10.0</td>\n",
       "      <td>40.0</td>\n",
       "    </tr>\n",
       "    <tr>\n",
       "      <th>6</th>\n",
       "      <td>285.0</td>\n",
       "      <td>9.0</td>\n",
       "      <td>44.0</td>\n",
       "    </tr>\n",
       "    <tr>\n",
       "      <th>7</th>\n",
       "      <td>289.0</td>\n",
       "      <td>10.0</td>\n",
       "      <td>48.0</td>\n",
       "    </tr>\n",
       "    <tr>\n",
       "      <th>8</th>\n",
       "      <td>294.0</td>\n",
       "      <td>10.0</td>\n",
       "      <td>46.0</td>\n",
       "    </tr>\n",
       "    <tr>\n",
       "      <th>9</th>\n",
       "      <td>305.0</td>\n",
       "      <td>9.0</td>\n",
       "      <td>46.0</td>\n",
       "    </tr>\n",
       "    <tr>\n",
       "      <th>10</th>\n",
       "      <td>307.0</td>\n",
       "      <td>10.0</td>\n",
       "      <td>52.0</td>\n",
       "    </tr>\n",
       "    <tr>\n",
       "      <th>11</th>\n",
       "      <td>292.0</td>\n",
       "      <td>10.0</td>\n",
       "      <td>50.0</td>\n",
       "    </tr>\n",
       "    <tr>\n",
       "      <th>12</th>\n",
       "      <td>322.0</td>\n",
       "      <td>10.0</td>\n",
       "      <td>52.0</td>\n",
       "    </tr>\n",
       "  </tbody>\n",
       "</table>\n",
       "</div>"
      ],
      "text/plain": [
       "              calls_duration  gb_used  messages\n",
       "tariff month                                   \n",
       "smart  1               144.0      6.0      16.0\n",
       "       2               179.0      6.0      22.0\n",
       "       3               180.0      6.0      27.0\n",
       "       4               175.0      6.0      24.0\n",
       "       5               176.0      6.0      27.0\n",
       "       6               165.0      6.0      28.0\n",
       "       7               169.0      6.0      28.0\n",
       "       8               176.0      5.0      29.0\n",
       "       9               173.0      5.0      28.0\n",
       "       10              178.0      6.0      29.0\n",
       "       11              168.0      5.0      28.0\n",
       "       12              188.0      5.0      31.0\n",
       "ultra  1               240.0      6.0      29.0\n",
       "       2               275.0     10.0      26.0\n",
       "       3               311.0     11.0      41.0\n",
       "       4               251.0      9.0      37.0\n",
       "       5               271.0     10.0      40.0\n",
       "       6               285.0      9.0      44.0\n",
       "       7               289.0     10.0      48.0\n",
       "       8               294.0     10.0      46.0\n",
       "       9               305.0      9.0      46.0\n",
       "       10              307.0     10.0      52.0\n",
       "       11              292.0     10.0      50.0\n",
       "       12              322.0     10.0      52.0"
      ]
     },
     "execution_count": 43,
     "metadata": {},
     "output_type": "execute_result"
    }
   ],
   "source": [
    "# группируем датасэт для расчета СКО по различным видам трафика\n",
    "\n",
    "data_std = round(\n",
    "    data[['month', 'calls_duration', 'gb_used', 'messages', 'tariff']]\n",
    "    .groupby(['tariff', 'month'])[['calls_duration', 'gb_used', 'messages']].apply(np.std), 0\n",
    ")\n",
    "\n",
    "data_std"
   ]
  },
  {
   "cell_type": "markdown",
   "metadata": {},
   "source": [
    "- Исходя из рассчитанных значений дисперсии и СКО **разброс значений по тарифу ultra по всем видам трафика шире**"
   ]
  },
  {
   "cell_type": "markdown",
   "metadata": {},
   "source": [
    "### Построение гистограмм. Описание распределений"
   ]
  },
  {
   "cell_type": "code",
   "execution_count": 44,
   "metadata": {},
   "outputs": [],
   "source": [
    "# создадим функцию для построения графика распределения средней величины трафика в зависимости от тарифа\n",
    "\n",
    "def hist_traffic_mean(col, traffic, xlabel):\n",
    "    data_means.loc['smart', col].hist(alpha=0.5, label='smart', figsize=(10, 5))\n",
    "    data_means.loc['ultra', col].hist(alpha=0.5, label='ultra', figsize=(10, 5))\n",
    "    title = 'Гистограмма распределения ' + traffic + ' в зависимости от тарифа'\n",
    "    plt.title(title)\n",
    "    plt.xlabel(xlabel)\n",
    "    plt.ylabel('частотность')\n",
    "    plt.legend()\n",
    "    plt.show()"
   ]
  },
  {
   "cell_type": "code",
   "execution_count": 45,
   "metadata": {},
   "outputs": [],
   "source": [
    "# создадим функцию для построения графика распределения трафика в зависимости от тарифа\n",
    "\n",
    "def hist_traffic(col, traffic, xlabel):\n",
    "    data[data['tariff'] == 'smart'][col].hist(alpha=0.5, label='smart', bins=50, figsize=(10, 5))\n",
    "    data[data['tariff'] == 'ultra'][col].hist(alpha=0.5, label='ultra', bins=50, figsize=(10, 5))\n",
    "    title = 'Гистограмма распределения ' + traffic + ' в зависимости от тарифа'\n",
    "    plt.title(title)\n",
    "    plt.xlabel(xlabel)\n",
    "    plt.ylabel('частотность')\n",
    "    plt.legend()\n",
    "    plt.show()"
   ]
  },
  {
   "cell_type": "code",
   "execution_count": 46,
   "metadata": {},
   "outputs": [
    {
     "data": {
      "image/png": "[encoded data removed]",
      "text/plain": [
       "<Figure size 1000x500 with 1 Axes>"
      ]
     },
     "metadata": {},
     "output_type": "display_data"
    }
   ],
   "source": [
    "# построим график распределения средней длительности звонков в зависимости от тарифа\n",
    "\n",
    "hist_traffic_mean('calls_duration', 'средней длительности звонков', 'минуты')"
   ]
  },
  {
   "cell_type": "markdown",
   "metadata": {},
   "source": [
    "- График рапределения средних значений по длительности звонков по тарифу smart показывает, что большая часть усредненных значений приходится на диапазон примерно от 350 до 420 минут, по тарифу ultra - на 2 диапазона: 430-470 и 500-520 минут"
   ]
  },
  {
   "cell_type": "code",
   "execution_count": 47,
   "metadata": {},
   "outputs": [
    {
     "data": {
      "image/png": "[encoded data removed]",
      "text/plain": [
       "<Figure size 1000x500 with 1 Axes>"
      ]
     },
     "metadata": {},
     "output_type": "display_data"
    }
   ],
   "source": [
    "# построим график распределения длительности звонков в зависимости от тарифа\n",
    "\n",
    "hist_traffic('calls_duration', 'длительности звонков', 'минуты')"
   ]
  },
  {
   "cell_type": "markdown",
   "metadata": {},
   "source": [
    "- Гистограммы по всем неусредненным значениям по длительности звонков выглядят иначе и представляют собой по обоим тарифам датасэты с положительной скошенностью\n",
    "- По таким гистограммам значительно сложнее выделить какие-то диапазоны, но зато хорошо видна картина разброса данных, (подтвержденная расчитанными выше значениями усредненных по месяцам диперсией и СКО): **по тарифу ultra разброс данных значительно шире**"
   ]
  },
  {
   "cell_type": "code",
   "execution_count": 48,
   "metadata": {},
   "outputs": [
    {
     "data": {
      "image/png": "[encoded data removed]",
      "text/plain": [
       "<Figure size 1000x500 with 1 Axes>"
      ]
     },
     "metadata": {},
     "output_type": "display_data"
    }
   ],
   "source": [
    "# построим график распределения средних значений использованных гб в зависимости от тарифа\n",
    "\n",
    "hist_traffic_mean('gb_used', 'средних значений использованных гб', 'гб')"
   ]
  },
  {
   "cell_type": "markdown",
   "metadata": {},
   "source": [
    "- График рапределения средних значений по количеству использованных гб по тарифу smart показывает, что большая часть усредненных значений приходится на диапазон примерно от 15 до 17 гб, по тарифу ultra - от 17 до 20 гб"
   ]
  },
  {
   "cell_type": "code",
   "execution_count": 49,
   "metadata": {},
   "outputs": [
    {
     "data": {
      "image/png": "[encoded data removed]",
      "text/plain": [
       "<Figure size 1000x500 with 1 Axes>"
      ]
     },
     "metadata": {},
     "output_type": "display_data"
    }
   ],
   "source": [
    "# построим график распределения использованных гб в зависимости от тарифа\n",
    "\n",
    "hist_traffic('gb_used', 'использованных гб', 'гб')"
   ]
  },
  {
   "cell_type": "markdown",
   "metadata": {},
   "source": [
    "- Гистограммы по всем неусредненным значениям использованных гб представляют собой по обоим тарифам нормальное распределение\n",
    "- Здесь, также, как и по длительности звонков **разброс данных значительно шире по тарифу ultra**"
   ]
  },
  {
   "cell_type": "code",
   "execution_count": 50,
   "metadata": {},
   "outputs": [
    {
     "data": {
      "image/png": "[encoded data removed]",
      "text/plain": [
       "<Figure size 1000x500 with 1 Axes>"
      ]
     },
     "metadata": {},
     "output_type": "display_data"
    }
   ],
   "source": [
    "# построим график распределения средних значений отправленных сообщений в зависимости от тарифа\n",
    "\n",
    "hist_traffic_mean('messages', 'средних значений отправленных сообщений', 'сообщения')"
   ]
  },
  {
   "cell_type": "markdown",
   "metadata": {},
   "source": [
    "- График рапределения средних значений по количеству отправленных сообщений по тарифу smart показывает, что большая часть усредненных значений находится в районе 40 сообщений, по тарифу ultra - в районе 45-50 и 60-70 сообщений"
   ]
  },
  {
   "cell_type": "code",
   "execution_count": 51,
   "metadata": {},
   "outputs": [
    {
     "data": {
      "image/png": "[encoded data removed]",
      "text/plain": [
       "<Figure size 1000x500 with 1 Axes>"
      ]
     },
     "metadata": {},
     "output_type": "display_data"
    }
   ],
   "source": [
    "# построим график распределения отправленных сообщений в зависимости от тарифа\n",
    "\n",
    "hist_traffic('messages', 'отправленных сообщений', 'сообщения')"
   ]
  },
  {
   "cell_type": "markdown",
   "metadata": {},
   "source": [
    "- Гистограммы по всем неусредненным значениям отправленных сообщений скошены вправо\n",
    "- Здесь, также **разброс данных значительно шире по тарифу ultra**"
   ]
  },
  {
   "cell_type": "markdown",
   "metadata": {},
   "source": [
    "### Вывод 4"
   ]
  },
  {
   "cell_type": "markdown",
   "metadata": {},
   "source": [
    "1) По всем видам трафика (звонки, интернет, сообщения) видна **тенденция к росту среднего количества использованных минут, гб, сообщений в течение года по обоим тарифам**\n",
    "\n",
    "2) Усредненные по месяцам данные показывают, что пользователи:\n",
    "- **тарифа smart** чаще всего: звонят примерно от 350 до 420 минут в месяц, тратят примерно по 15-17 гб интернета в месяц и отправляют порядка 40 сообщений в месяц\n",
    "- **тарифа ultra** чаще всего: звонят примерно по 430-470 или 500-520 минут минут в месяц, тратят примерно по 17-20 гб интернета в месяц и отправляют порядка 45-50 или 60-70 сообщений в месяц\n",
    "\n",
    "3) По более дешевому тарифу smart пользователи выбирают в среднем за год более 70% включенных в тариф минут и сообщений и почти 100% включенных гб, по тарифу ultra в среднем за год остаются неиспользованными более 80% минут, до 40% гб и до 45% сообщений\n",
    "\n",
    "4) Исходя из рассчитанных средних помесячных значений дисперсии и СКО и гистограмм распределения неусредненных значений **разброс данных по тарифу ultra по всем видам трафика шире**"
   ]
  },
  {
   "cell_type": "markdown",
   "metadata": {},
   "source": [
    "## Проверка гипотез"
   ]
  },
  {
   "cell_type": "markdown",
   "metadata": {},
   "source": [
    "Проверьте гипотезы:\n",
    "- средняя выручка пользователей тарифов «Ультра» и «Смарт» различаются;\n",
    "- средняя выручка пользователей из Москвы отличается от выручки пользователей из других регионов.\n",
    "\n",
    "Пороговое значение alpha задайте самостоятельно.\n",
    "\n",
    "Поясните:\n",
    "\n",
    "- как вы формулировали нулевую и альтернативную гипотезы;\n",
    "- какой критерий использовали для проверки гипотез и почему."
   ]
  },
  {
   "cell_type": "markdown",
   "metadata": {},
   "source": [
    "### Первая гипотеза: средняя выручка пользователей тарифов «Ультра» и «Смарт» различаются"
   ]
  },
  {
   "cell_type": "markdown",
   "metadata": {},
   "source": [
    "1) Поскольку нулевая гипотеза формулируется таким образом, чтобы средние по выборкам были равны, то формулируем гипотезы так:\n",
    "\n",
    "- **Нулевая гипотеза (H0)**: средняя выручка пользователей тарифов «Ультра» и «Смарт» равны\n",
    "- **Альтернативная гипотеза (H1)**: средняя выручка пользователей тарифов «Ультра» и «Смарт» не равны\n",
    "\n",
    "2) Kритический уровень статистической значимости **alpha примем на уровне 0,05**, поскольку в статистическом анализе очень часто используетя именно 95-%-ый доверительный интервал"
   ]
  },
  {
   "cell_type": "code",
   "execution_count": 52,
   "metadata": {},
   "outputs": [],
   "source": [
    "# выделим из общей совокупности 2 выборки с данными по тарифу smart и ultra\n",
    "\n",
    "sample_1 = data[data['tariff'] == 'smart']['revenue']\n",
    "sample_2 = data[data['tariff'] == 'ultra']['revenue']"
   ]
  },
  {
   "cell_type": "code",
   "execution_count": 53,
   "metadata": {},
   "outputs": [],
   "source": [
    "# напишем функцию для построения гистограммы распределения выручки в зависимости от тарифа\n",
    "\n",
    "def hist_revenue(sample, ylim, tariff):\n",
    "    sample.hist(bins=50)\n",
    "    plt.ylim([0, ylim])\n",
    "    title = 'Гистограмма распределения выручки по тарифу ' + tariff\n",
    "    plt.title(title)\n",
    "    plt.xlabel('выручка, руб.')\n",
    "    plt.ylabel('частотность')\n",
    "    plt.show()"
   ]
  },
  {
   "cell_type": "code",
   "execution_count": 54,
   "metadata": {},
   "outputs": [
    {
     "data": {
      "image/png": "[encoded data removed]",
      "text/plain": [
       "<Figure size 640x480 with 1 Axes>"
      ]
     },
     "metadata": {},
     "output_type": "display_data"
    }
   ],
   "source": [
    "# построим гистограмму распределения выручки по тарифу smart\n",
    "\n",
    "hist_revenue(sample_1, 200, 'smart')"
   ]
  },
  {
   "cell_type": "code",
   "execution_count": 55,
   "metadata": {},
   "outputs": [
    {
     "data": {
      "image/png": "[encoded data removed]",
      "text/plain": [
       "<Figure size 640x480 with 1 Axes>"
      ]
     },
     "metadata": {},
     "output_type": "display_data"
    }
   ],
   "source": [
    "# построим гистограмму распределения выручки по тарифу ultra\n",
    "\n",
    "hist_revenue(sample_2, 30, 'ultra')"
   ]
  },
  {
   "cell_type": "code",
   "execution_count": 56,
   "metadata": {},
   "outputs": [
    {
     "data": {
      "text/plain": [
       "revenue    641149.068835\n",
       "Name: revenue, dtype: float64"
      ]
     },
     "execution_count": 56,
     "metadata": {},
     "output_type": "execute_result"
    }
   ],
   "source": [
    "# посчитаем дисперсию выручки по тарифу smart\n",
    "\n",
    "sample_1.agg({'revenue': np.var})"
   ]
  },
  {
   "cell_type": "code",
   "execution_count": 57,
   "metadata": {},
   "outputs": [
    {
     "data": {
      "text/plain": [
       "revenue    141516.745079\n",
       "Name: revenue, dtype: float64"
      ]
     },
     "execution_count": 57,
     "metadata": {},
     "output_type": "execute_result"
    }
   ],
   "source": [
    "# посчитаем дисперсию выручки по тарифу ultra\n",
    "\n",
    "sample_2.agg({'revenue': np.var})"
   ]
  },
  {
   "cell_type": "markdown",
   "metadata": {},
   "source": [
    "###### По тарифу smart наблюдается существенно больший разброс значений в сравнении с тарифом ultra"
   ]
  },
  {
   "cell_type": "code",
   "execution_count": 58,
   "metadata": {},
   "outputs": [],
   "source": [
    "# создадим функцию stat для проверки нулевой гипотезы t-тестом \n",
    "\n",
    "def stat(sample_1, sample_2):\n",
    "    alpha = .05 \n",
    "\n",
    "    results = st.ttest_ind(\n",
    "        sample_1, \n",
    "        sample_2)\n",
    "\n",
    "    print('p-значение: ', results.pvalue)\n",
    "\n",
    "    if results.pvalue < alpha:\n",
    "        print(\"Отвергаем нулевую гипотезу\")\n",
    "    else:\n",
    "        print(\"Не получилось отвергнуть нулевую гипотезу\")"
   ]
  },
  {
   "cell_type": "code",
   "execution_count": 59,
   "metadata": {},
   "outputs": [
    {
     "name": "stdout",
     "output_type": "stream",
     "text": [
      "p-значение:  8.813878364275262e-179\n",
      "Отвергаем нулевую гипотезу\n"
     ]
    }
   ],
   "source": [
    "# проверим нулевую гипотезу, применив функцию\n",
    "\n",
    "stat(sample_1, sample_2)"
   ]
  },
  {
   "cell_type": "markdown",
   "metadata": {},
   "source": [
    "Поскольку наша нулевая гипотеза не подтвердилась, исходная гипотеза о том, что <span style=\"color:red\">**средняя выручка пользователей тарифов «Ультра» и «Смарт» различаются, подтвердилась.**</span>"
   ]
  },
  {
   "cell_type": "markdown",
   "metadata": {},
   "source": [
    "### Вторая гипотеза: средняя выручка пользователей из Москвы отличается от выручки пользователей из других регионов."
   ]
  },
  {
   "cell_type": "markdown",
   "metadata": {},
   "source": [
    "1) Формулируем гипотезы: \n",
    "- **Нулевая гипотеза (H0)**: средняя выручка пользователей из Москвы и пользователей из других регионов равны\n",
    "\n",
    "- **Альтернативная гипотеза (H1)**: средняя выручка пользователей из Москвы и пользователей из других регионов не равны\n",
    "\n",
    "2) Kритический уровень статистической значимости **alpha примем на уровне 0,05**"
   ]
  },
  {
   "cell_type": "code",
   "execution_count": 60,
   "metadata": {},
   "outputs": [
    {
     "name": "stdout",
     "output_type": "stream",
     "text": [
      "p-значение:  0.48244885168123464\n",
      "Не получилось отвергнуть нулевую гипотезу\n"
     ]
    }
   ],
   "source": [
    "sample_3 = data[data['city'] == 'Москва']['revenue']\n",
    "sample_4 = data[data['city'] != 'Москва']['revenue']\n",
    "\n",
    "stat(sample_3, sample_4)"
   ]
  },
  {
   "cell_type": "markdown",
   "metadata": {},
   "source": [
    "Поскольку наша нулевая гипотеза подтвердилась, исходная гипотеза о том, что <span style=\"color:red\">**средняя выручка пользователей из Москвы отличается от выручки пользователей из других регионов, не подтвердилась.**</span>"
   ]
  },
  {
   "cell_type": "markdown",
   "metadata": {},
   "source": [
    "### Вывод 5\n",
    "\n",
    "1) Гипотеза о том, что **средняя выручка пользователей тарифов «Ультра» и «Смарт» различаются, подтвердилась**\n",
    "\n",
    "2) Гипотеза о том, что **средняя выручка пользователей из Москвы отличается от выручки пользователей из других регионов, не подтвердилась**"
   ]
  },
  {
   "cell_type": "markdown",
   "metadata": {},
   "source": [
    "## Определение перспективного тарифа"
   ]
  },
  {
   "cell_type": "markdown",
   "metadata": {},
   "source": [
    "- Мы выяснили, что по в среднем по 2-м тарифам месячная выручка с 1 пользователя различается\n",
    "- Посчитаем эту среднюю выручку, сравним ее по тарифам и посмотрим, за счет чего она формируется\n"
   ]
  },
  {
   "cell_type": "code",
   "execution_count": 61,
   "metadata": {},
   "outputs": [
    {
     "data": {
      "text/html": [
       "<div>\n",
       "<style scoped>\n",
       "    .dataframe tbody tr th:only-of-type {\n",
       "        vertical-align: middle;\n",
       "    }\n",
       "\n",
       "    .dataframe tbody tr th {\n",
       "        vertical-align: top;\n",
       "    }\n",
       "\n",
       "    .dataframe thead th {\n",
       "        text-align: right;\n",
       "    }\n",
       "</style>\n",
       "<table border=\"1\" class=\"dataframe\">\n",
       "  <thead>\n",
       "    <tr style=\"text-align: right;\">\n",
       "      <th></th>\n",
       "      <th>средн. выручка с клиента, руб. в мес.</th>\n",
       "    </tr>\n",
       "  </thead>\n",
       "  <tbody>\n",
       "    <tr>\n",
       "      <th>smart</th>\n",
       "      <td>1257</td>\n",
       "    </tr>\n",
       "    <tr>\n",
       "      <th>ultra</th>\n",
       "      <td>2070</td>\n",
       "    </tr>\n",
       "    <tr>\n",
       "      <th>ultra&gt;smart, %</th>\n",
       "      <td>65</td>\n",
       "    </tr>\n",
       "  </tbody>\n",
       "</table>\n",
       "</div>"
      ],
      "text/plain": [
       "                средн. выручка с клиента, руб. в мес.\n",
       "smart                                            1257\n",
       "ultra                                            2070\n",
       "ultra>smart, %                                     65"
      ]
     },
     "execution_count": 61,
     "metadata": {},
     "output_type": "execute_result"
    }
   ],
   "source": [
    "# расчет средней выручки с 1 пользователя в месяц, исходя из тарифа\n",
    "\n",
    "a = round(data[data['tariff'] == 'smart']['revenue'].mean())\n",
    "b = round(data[data['tariff'] == 'ultra']['revenue'].mean())\n",
    "c = round((b/a-1)*100)\n",
    "revenue_per_user = [a, b, c]\n",
    "\n",
    "pd.DataFrame(\n",
    "    index=['smart', 'ultra', 'ultra>smart, %'], data=revenue_per_user, columns=['средн. выручка с клиента, руб. в мес.']\n",
    ")"
   ]
  },
  {
   "cell_type": "code",
   "execution_count": 62,
   "metadata": {},
   "outputs": [],
   "source": [
    "# добавим столбец с экстра-расходами (расходы сверх абонентской платы)\n",
    "\n",
    "data['extra_fee'] = data['revenue'] - data['rub_monthly_fee']"
   ]
  },
  {
   "cell_type": "code",
   "execution_count": 63,
   "metadata": {},
   "outputs": [
    {
     "name": "stdout",
     "output_type": "stream",
     "text": [
      "доля пользователей по тарифу ultra с экстра-расходами: 14.0 %\n"
     ]
    }
   ],
   "source": [
    "print(\n",
    "    'доля пользователей по тарифу ultra с экстра-расходами:', round(len(data[(data['tariff'] == 'ultra') &\n",
    "    (data['extra_fee'] > 0)]['extra_fee'])/ len(data[data['tariff'] == 'ultra']) * 100, 0), '%'\n",
    ")"
   ]
  },
  {
   "cell_type": "code",
   "execution_count": 64,
   "metadata": {},
   "outputs": [
    {
     "name": "stdout",
     "output_type": "stream",
     "text": [
      "доля пользователей по тарифу smart с экстра-расходами: 73.0 %\n"
     ]
    }
   ],
   "source": [
    "print(\n",
    "    'доля пользователей по тарифу smart с экстра-расходами:', round(len(data[(data['tariff'] == 'smart')\n",
    "    & (data['extra_fee'] > 0)]['extra_fee'])/ len(data[data['tariff'] == 'smart']) * 100, 0), '%'\n",
    ")"
   ]
  },
  {
   "cell_type": "code",
   "execution_count": 65,
   "metadata": {},
   "outputs": [
    {
     "data": {
      "text/html": [
       "<div>\n",
       "<style scoped>\n",
       "    .dataframe tbody tr th:only-of-type {\n",
       "        vertical-align: middle;\n",
       "    }\n",
       "\n",
       "    .dataframe tbody tr th {\n",
       "        vertical-align: top;\n",
       "    }\n",
       "\n",
       "    .dataframe thead th {\n",
       "        text-align: right;\n",
       "    }\n",
       "</style>\n",
       "<table border=\"1\" class=\"dataframe\">\n",
       "  <thead>\n",
       "    <tr style=\"text-align: right;\">\n",
       "      <th></th>\n",
       "      <th>доля от сумм. выручки, %</th>\n",
       "      <th>доля пользователей в выборке, %</th>\n",
       "    </tr>\n",
       "  </thead>\n",
       "  <tbody>\n",
       "    <tr>\n",
       "      <th>smart</th>\n",
       "      <td>42</td>\n",
       "      <td>30.0</td>\n",
       "    </tr>\n",
       "    <tr>\n",
       "      <th>ultra</th>\n",
       "      <td>58</td>\n",
       "      <td>70.0</td>\n",
       "    </tr>\n",
       "  </tbody>\n",
       "</table>\n",
       "</div>"
      ],
      "text/plain": [
       "       доля от сумм. выручки, %  доля пользователей в выборке, %\n",
       "smart                        42                             30.0\n",
       "ultra                        58                             70.0"
      ]
     },
     "execution_count": 65,
     "metadata": {},
     "output_type": "execute_result"
    }
   ],
   "source": [
    "# посчитаем доли тарифов в выручке и выборке по количеству пользователей\n",
    "\n",
    "d = round((data[data['tariff'] == 'ultra']['revenue'].sum() / data['revenue'].sum()) *100)\n",
    "\n",
    "e = 100 - d\n",
    "\n",
    "f = round(len(data[data['tariff'] == 'ultra']['user_id'].unique()) / len(data['user_id'].unique()) * 100, 0)\n",
    "\n",
    "g = 100 - f\n",
    "\n",
    "shares = [[d, f], [e, g]]\n",
    "\n",
    "columns=['доля от сумм. выручки, %', 'доля пользователей в выборке, %']\n",
    "\n",
    "pd.DataFrame(index=['smart', 'ultra'], data=shares, columns=columns)"
   ]
  },
  {
   "cell_type": "code",
   "execution_count": 66,
   "metadata": {},
   "outputs": [
    {
     "data": {
      "image/png": "[encoded data removed]",
      "text/plain": [
       "<Figure size 640x480 with 1 Axes>"
      ]
     },
     "metadata": {},
     "output_type": "display_data"
    }
   ],
   "source": [
    "# используем круговую диаграмму для определения долей тарифов в формировании суммарой выручки\n",
    "\n",
    "labels = ['ultra', 'smart']\n",
    "revenue_share=[d, e]\n",
    "explode = [0, 0]\n",
    "plt.pie(revenue_share, explode, labels, autopct='%1.0f%%')\n",
    "plt.title('Распределение суммарной выручки между тарифами, доли')\n",
    "plt.show()"
   ]
  },
  {
   "cell_type": "markdown",
   "metadata": {},
   "source": [
    "### Вывод 6\n",
    "\n",
    "1) **выручка с 1 пользователя по тарифу ultra в месяц в среднем на 63% выше, чем с пользователя по тарифу smart** и составляет: 2048 руб. против 1256 руб.\n",
    "\n",
    "2) при этом по тарифу ultra в отличие от тарифа smart по большему количеству пользователей выручка - это **абонентская плата**; доля пользователей с экстра-расходами всего 12%; это подтверждается выводами, сделанными в пункте 4\n",
    "\n",
    "3) доля пользователей с тарифом ultra в выборке составляет 29% против 71% по тарифу smart, но при этом **на пользователей с тарифом ultra приходится 40% всей суммарной выручки**, что говорит о большей эффективности данного тарифа в структуре выручки\n",
    "\n",
    "4) возможно, в дальнейшем компании стоит **рассмотреть вариант с переводом части клиентов с тарифа smart на тариф ultra**, но только по тем клиентам, по которым средняя выручка приближается к абонентской плате по тарифу ultra"
   ]
  },
  {
   "cell_type": "markdown",
   "metadata": {},
   "source": [
    "## Общий вывод"
   ]
  },
  {
   "cell_type": "markdown",
   "metadata": {},
   "source": [
    "<span style=\"color:red\">**1. Предобработка данных:**</span>\n",
    "- в выборке не было пропусков, за исключением столбца churn_date в df_users (не требует замены, т.к. отсутствие значений означает то, что на момент выгрузки тариф еще действовал)\n",
    "- все столбцы с датами приведены к типу datetime\n",
    "- удален 1 лишний столбец\n",
    "\n",
    "<span style=\"color:red\">**2. Расчёты и добавление результатов в таблицу**:</span>\n",
    "- данные 3-х датасэтов по трафику (звонки, сообщения, интернет) были приведены к месячным значениям\n",
    "- все 5 датасэтов объединены в единый датасэт\n",
    "- пропущенные значения, появившиеся в результате объединения, отфильтрованы из датасэта по тем строкам, где есть пропуски по всем 3 видам трафика; остальные пропуски заменены на нулевые значения\n",
    "- в финальном датасэте добавлены 5 новых столбцов и произведены расчеты по каждому пользователю: количество звонков, их длительность, количество отправленных сообщений, количество использованнных гб и выручка\n",
    "\n",
    "<span style=\"color:red\">**3. Анализ данных**:</span>\n",
    "\n",
    "1) По всем видам трафика (звонки, интернет, сообщения) видна **тенденция к росту среднего количества использованных минут, гб, сообщений в течение года по обоим тарифам**\n",
    "\n",
    "2) Усредненные по месяцам данные показывают, что пользователи:\n",
    "- **тарифа smart** чаще всего: звонят примерно от 350 до 420 минут в месяц, тратят примерно по 15-17 гб интернета в месяц и отправляют порядка 40 сообщений в месяц\n",
    "- **тарифа ultra** чаще всего: звонят примерно по 430-470 или 500-520 минут минут в месяц, тратят примерно по 17-20 гб интернета в месяц и отправляют порядка 45-50 или 60-70 сообщений в месяц\n",
    "\n",
    "3) По более дешевому тарифу smart пользователи выбирают в среднем за год более 70% включенных в тариф минут и сообщений и почти 100% включенных гб, по тарифу ultra в среднем за год остаются неиспользованными более 80% минут, до 40% гб и до 45% сообщений\n",
    "\n",
    "4) Исходя из рассчитанных средних помесячных значений дисперсии и СКО и гистограмм распределения неусредненных значений **разброс данных по тарифу ultra по всем видам трафика шире**\n",
    "\n",
    "<span style=\"color:red\">**4. Проверка гипотез**:</span>\n",
    "\n",
    "1) Гипотеза о том, что **средняя выручка пользователей тарифов «Ультра» и «Смарт» различаются, подтвердилась**\n",
    "\n",
    "2) Гипотеза о том, что **средняя выручка пользователей из Москвы отличается от выручки пользователей из других регионов, не подтвердилась**\n",
    "\n",
    "<span style=\"color:red\">**5. Определение перспективного тарифа**:</span>\n",
    "\n",
    "1) **выручка с 1-го пользователя по тарифу ultra в месяц в среднем на 63% выше, чем с пользователя по тарифу smart** и составляет: 2048 руб. против 1256 руб.\n",
    "\n",
    "2) при этом по тарифу ultra в отличие от тарифа smart по большему количеству пользователей выручка - это **абонентская плата**; доля пользователей с экстра-расходами всего 12%, что подтверждается выводами о неиспользованном трафике (п.4. Анализ данных)\n",
    "\n",
    "3) доля пользователей с тарифом ultra в выборке составляет 29% против 71% по тарифу smart, но при этом **на пользователей с тарифом ultra приходится 40% всей суммарной выручки**, что говорит о большей эффективности данного тарифа в структуре выручки\n",
    "\n",
    "4) возможно, в дальнейшем компании стоит **рассмотреть вариант с переводом части клиентов с тарифа smart на тариф ultra**, но только по тем клиентам, по которым средняя выручка приближается к абонентской плате по тарифу ultra"
   ]
  }
 ],
 "metadata": {
  "ExecuteTimeLog": [
   {
    "duration": 1449,
    "start_time": "2022-03-20T23:55:08.304Z"
   },
   {
    "duration": 203,
    "start_time": "2022-03-20T23:55:09.755Z"
   },
   {
    "duration": 189,
    "start_time": "2022-03-20T23:55:09.960Z"
   },
   {
    "duration": 175,
    "start_time": "2022-03-20T23:55:10.152Z"
   },
   {
    "duration": 32,
    "start_time": "2022-03-20T23:55:10.329Z"
   },
   {
    "duration": 51,
    "start_time": "2022-03-20T23:55:10.363Z"
   },
   {
    "duration": 12,
    "start_time": "2022-03-20T23:55:10.416Z"
   },
   {
    "duration": 37,
    "start_time": "2022-03-20T23:55:10.431Z"
   },
   {
    "duration": 144,
    "start_time": "2022-03-20T23:55:10.470Z"
   },
   {
    "duration": 69,
    "start_time": "2022-03-20T23:55:10.618Z"
   },
   {
    "duration": 61,
    "start_time": "2022-03-20T23:55:10.690Z"
   },
   {
    "duration": 56,
    "start_time": "2022-03-20T23:55:10.753Z"
   },
   {
    "duration": 35,
    "start_time": "2022-03-20T23:55:10.810Z"
   },
   {
    "duration": 21,
    "start_time": "2022-03-20T23:55:10.847Z"
   },
   {
    "duration": 48,
    "start_time": "2022-03-20T23:55:10.870Z"
   },
   {
    "duration": 59,
    "start_time": "2022-03-20T23:55:10.919Z"
   },
   {
    "duration": 9,
    "start_time": "2022-03-20T23:55:10.979Z"
   },
   {
    "duration": 35,
    "start_time": "2022-03-20T23:55:10.989Z"
   },
   {
    "duration": 21,
    "start_time": "2022-03-20T23:55:11.026Z"
   },
   {
    "duration": 19,
    "start_time": "2022-03-20T23:55:11.049Z"
   },
   {
    "duration": 36,
    "start_time": "2022-03-20T23:55:11.070Z"
   },
   {
    "duration": 28,
    "start_time": "2022-03-20T23:55:11.108Z"
   },
   {
    "duration": 20,
    "start_time": "2022-03-20T23:55:11.138Z"
   },
   {
    "duration": 27,
    "start_time": "2022-03-20T23:55:11.159Z"
   },
   {
    "duration": 203,
    "start_time": "2022-03-20T23:55:11.188Z"
   },
   {
    "duration": 5,
    "start_time": "2022-03-20T23:55:11.393Z"
   },
   {
    "duration": 35,
    "start_time": "2022-03-20T23:55:11.401Z"
   },
   {
    "duration": 196,
    "start_time": "2022-03-20T23:55:11.440Z"
   },
   {
    "duration": 6,
    "start_time": "2022-03-20T23:55:11.638Z"
   },
   {
    "duration": 15,
    "start_time": "2022-03-20T23:55:11.645Z"
   },
   {
    "duration": 220,
    "start_time": "2022-03-20T23:55:11.662Z"
   },
   {
    "duration": 5,
    "start_time": "2022-03-20T23:55:11.884Z"
   },
   {
    "duration": 5,
    "start_time": "2022-03-20T23:55:11.901Z"
   },
   {
    "duration": 57,
    "start_time": "2022-03-20T23:55:11.908Z"
   },
   {
    "duration": 47,
    "start_time": "2022-03-20T23:55:11.967Z"
   },
   {
    "duration": 246,
    "start_time": "2022-03-20T23:55:12.016Z"
   },
   {
    "duration": 355,
    "start_time": "2022-03-20T23:55:12.264Z"
   },
   {
    "duration": 229,
    "start_time": "2022-03-20T23:55:12.621Z"
   },
   {
    "duration": 422,
    "start_time": "2022-03-20T23:55:12.851Z"
   },
   {
    "duration": 210,
    "start_time": "2022-03-20T23:55:13.276Z"
   },
   {
    "duration": 305,
    "start_time": "2022-03-20T23:55:13.487Z"
   },
   {
    "duration": 13,
    "start_time": "2022-03-20T23:55:13.794Z"
   },
   {
    "duration": 17,
    "start_time": "2022-03-20T23:55:13.809Z"
   },
   {
    "duration": 29,
    "start_time": "2022-03-20T23:55:13.828Z"
   },
   {
    "duration": 18,
    "start_time": "2022-03-20T23:55:13.859Z"
   },
   {
    "duration": 24,
    "start_time": "2022-03-20T23:55:13.879Z"
   },
   {
    "duration": 27,
    "start_time": "2022-03-20T23:55:13.905Z"
   },
   {
    "duration": 27,
    "start_time": "2022-03-20T23:55:13.933Z"
   },
   {
    "duration": 80,
    "start_time": "2022-03-20T23:55:13.962Z"
   },
   {
    "duration": 1211,
    "start_time": "2022-03-31T19:13:36.636Z"
   },
   {
    "duration": 165,
    "start_time": "2022-03-31T19:13:37.849Z"
   },
   {
    "duration": 140,
    "start_time": "2022-03-31T19:13:38.015Z"
   },
   {
    "duration": 96,
    "start_time": "2022-03-31T19:13:38.157Z"
   },
   {
    "duration": 26,
    "start_time": "2022-03-31T19:13:38.255Z"
   },
   {
    "duration": 41,
    "start_time": "2022-03-31T19:13:38.283Z"
   },
   {
    "duration": 7,
    "start_time": "2022-03-31T19:13:38.326Z"
   },
   {
    "duration": 13,
    "start_time": "2022-03-31T19:13:38.335Z"
   },
   {
    "duration": 78,
    "start_time": "2022-03-31T19:13:38.350Z"
   },
   {
    "duration": 53,
    "start_time": "2022-03-31T19:13:38.431Z"
   },
   {
    "duration": 29,
    "start_time": "2022-03-31T19:13:38.485Z"
   },
   {
    "duration": 27,
    "start_time": "2022-03-31T19:13:38.516Z"
   },
   {
    "duration": 41,
    "start_time": "2022-03-31T19:13:38.545Z"
   },
   {
    "duration": 21,
    "start_time": "2022-03-31T19:13:38.587Z"
   },
   {
    "duration": 10,
    "start_time": "2022-03-31T19:13:38.610Z"
   },
   {
    "duration": 25,
    "start_time": "2022-03-31T19:13:38.621Z"
   },
   {
    "duration": 34,
    "start_time": "2022-03-31T19:13:38.648Z"
   },
   {
    "duration": 11,
    "start_time": "2022-03-31T19:13:38.683Z"
   },
   {
    "duration": 4,
    "start_time": "2022-03-31T19:13:38.695Z"
   },
   {
    "duration": 8,
    "start_time": "2022-03-31T19:13:38.701Z"
   },
   {
    "duration": 11,
    "start_time": "2022-03-31T19:13:38.711Z"
   },
   {
    "duration": 7,
    "start_time": "2022-03-31T19:13:38.724Z"
   },
   {
    "duration": 16,
    "start_time": "2022-03-31T19:13:38.733Z"
   },
   {
    "duration": 42,
    "start_time": "2022-03-31T19:13:38.751Z"
   },
   {
    "duration": 184,
    "start_time": "2022-03-31T19:13:38.795Z"
   },
   {
    "duration": 3,
    "start_time": "2022-03-31T19:13:38.981Z"
   },
   {
    "duration": 7,
    "start_time": "2022-03-31T19:13:38.986Z"
   },
   {
    "duration": 161,
    "start_time": "2022-03-31T19:13:38.996Z"
   },
   {
    "duration": 4,
    "start_time": "2022-03-31T19:13:39.158Z"
   },
   {
    "duration": 19,
    "start_time": "2022-03-31T19:13:39.163Z"
   },
   {
    "duration": 166,
    "start_time": "2022-03-31T19:13:39.184Z"
   },
   {
    "duration": 4,
    "start_time": "2022-03-31T19:13:39.352Z"
   },
   {
    "duration": 9,
    "start_time": "2022-03-31T19:13:39.358Z"
   },
   {
    "duration": 35,
    "start_time": "2022-03-31T19:13:39.381Z"
   },
   {
    "duration": 35,
    "start_time": "2022-03-31T19:13:39.417Z"
   },
   {
    "duration": 237,
    "start_time": "2022-03-31T19:13:39.454Z"
   },
   {
    "duration": 433,
    "start_time": "2022-03-31T19:13:39.692Z"
   },
   {
    "duration": 573,
    "start_time": "2022-03-31T19:13:40.127Z"
   },
   {
    "duration": 1098,
    "start_time": "2022-03-31T19:13:40.702Z"
   },
   {
    "duration": 594,
    "start_time": "2022-03-31T19:13:41.803Z"
   },
   {
    "duration": 335,
    "start_time": "2022-03-31T19:13:42.399Z"
   },
   {
    "duration": 9,
    "start_time": "2022-03-31T19:13:42.736Z"
   },
   {
    "duration": 11,
    "start_time": "2022-03-31T19:13:42.747Z"
   },
   {
    "duration": 39,
    "start_time": "2022-03-31T19:13:42.760Z"
   },
   {
    "duration": 4,
    "start_time": "2022-03-31T19:13:42.801Z"
   },
   {
    "duration": 13,
    "start_time": "2022-03-31T19:13:42.806Z"
   },
   {
    "duration": 17,
    "start_time": "2022-03-31T19:13:42.821Z"
   },
   {
    "duration": 17,
    "start_time": "2022-03-31T19:13:42.839Z"
   },
   {
    "duration": 77,
    "start_time": "2022-03-31T19:13:42.857Z"
   },
   {
    "duration": 4,
    "start_time": "2022-03-31T19:14:30.527Z"
   },
   {
    "duration": 4,
    "start_time": "2022-03-31T19:14:46.090Z"
   },
   {
    "duration": 10,
    "start_time": "2022-03-31T19:15:31.557Z"
   },
   {
    "duration": 11,
    "start_time": "2022-03-31T19:53:15.579Z"
   },
   {
    "duration": 134,
    "start_time": "2022-03-31T19:53:34.822Z"
   },
   {
    "duration": 3,
    "start_time": "2022-03-31T19:55:08.289Z"
   },
   {
    "duration": 62,
    "start_time": "2022-03-31T19:55:10.149Z"
   },
   {
    "duration": 8,
    "start_time": "2022-03-31T19:55:19.215Z"
   },
   {
    "duration": 1713,
    "start_time": "2022-03-31T19:55:25.574Z"
   },
   {
    "duration": 49,
    "start_time": "2022-03-31T19:55:35.799Z"
   },
   {
    "duration": 4,
    "start_time": "2022-03-31T19:55:38.790Z"
   },
   {
    "duration": 15,
    "start_time": "2022-03-31T19:55:40.599Z"
   },
   {
    "duration": 4,
    "start_time": "2022-03-31T19:56:31.305Z"
   },
   {
    "duration": 23,
    "start_time": "2022-03-31T19:56:33.605Z"
   },
   {
    "duration": 4,
    "start_time": "2022-03-31T19:56:56.995Z"
   },
   {
    "duration": 14,
    "start_time": "2022-03-31T19:57:00.530Z"
   },
   {
    "duration": 5,
    "start_time": "2022-03-31T19:57:25.720Z"
   },
   {
    "duration": 21,
    "start_time": "2022-03-31T19:57:27.919Z"
   },
   {
    "duration": 4,
    "start_time": "2022-03-31T19:57:39.373Z"
   },
   {
    "duration": 3,
    "start_time": "2022-03-31T19:57:40.032Z"
   },
   {
    "duration": 27,
    "start_time": "2022-03-31T19:57:42.348Z"
   },
   {
    "duration": 3,
    "start_time": "2022-03-31T19:58:33.211Z"
   },
   {
    "duration": 16,
    "start_time": "2022-03-31T19:58:35.105Z"
   },
   {
    "duration": 112,
    "start_time": "2022-03-31T19:58:43.306Z"
   },
   {
    "duration": 117,
    "start_time": "2022-03-31T19:58:52.595Z"
   },
   {
    "duration": 4,
    "start_time": "2022-03-31T19:59:00.370Z"
   },
   {
    "duration": 22,
    "start_time": "2022-03-31T19:59:01.972Z"
   },
   {
    "duration": 4,
    "start_time": "2022-03-31T19:59:10.410Z"
   },
   {
    "duration": 27,
    "start_time": "2022-03-31T19:59:12.098Z"
   },
   {
    "duration": 475,
    "start_time": "2022-03-31T20:00:37.144Z"
   },
   {
    "duration": 42,
    "start_time": "2022-03-31T20:06:24.479Z"
   },
   {
    "duration": 38,
    "start_time": "2022-03-31T20:06:42.814Z"
   },
   {
    "duration": 32,
    "start_time": "2022-03-31T20:07:10.188Z"
   },
   {
    "duration": 25,
    "start_time": "2022-03-31T20:07:31.276Z"
   },
   {
    "duration": 30,
    "start_time": "2022-03-31T20:07:49.622Z"
   },
   {
    "duration": 1670,
    "start_time": "2022-03-31T20:35:30.673Z"
   },
   {
    "duration": 678,
    "start_time": "2022-03-31T20:35:32.345Z"
   },
   {
    "duration": 5,
    "start_time": "2022-03-31T20:35:33.025Z"
   },
   {
    "duration": 73,
    "start_time": "2022-03-31T20:35:33.033Z"
   },
   {
    "duration": 72,
    "start_time": "2022-03-31T20:35:33.109Z"
   },
   {
    "duration": 49,
    "start_time": "2022-03-31T20:35:33.184Z"
   },
   {
    "duration": 57,
    "start_time": "2022-03-31T20:35:33.236Z"
   },
   {
    "duration": 40,
    "start_time": "2022-03-31T20:35:33.296Z"
   },
   {
    "duration": 44,
    "start_time": "2022-03-31T20:35:33.339Z"
   },
   {
    "duration": 20,
    "start_time": "2022-03-31T20:35:33.389Z"
   },
   {
    "duration": 148,
    "start_time": "2022-03-31T20:35:33.412Z"
   },
   {
    "duration": 72,
    "start_time": "2022-03-31T20:35:33.562Z"
   },
   {
    "duration": 63,
    "start_time": "2022-03-31T20:35:33.637Z"
   },
   {
    "duration": 47,
    "start_time": "2022-03-31T20:35:33.703Z"
   },
   {
    "duration": 53,
    "start_time": "2022-03-31T20:35:33.753Z"
   },
   {
    "duration": 32,
    "start_time": "2022-03-31T20:35:33.808Z"
   },
   {
    "duration": 37,
    "start_time": "2022-03-31T20:35:33.842Z"
   },
   {
    "duration": 40,
    "start_time": "2022-03-31T20:35:33.881Z"
   },
   {
    "duration": 10,
    "start_time": "2022-03-31T20:35:33.923Z"
   },
   {
    "duration": 41,
    "start_time": "2022-03-31T20:35:33.935Z"
   },
   {
    "duration": 7,
    "start_time": "2022-03-31T20:35:33.978Z"
   },
   {
    "duration": 16,
    "start_time": "2022-03-31T20:35:33.987Z"
   },
   {
    "duration": 4,
    "start_time": "2022-03-31T20:35:34.005Z"
   },
   {
    "duration": 12,
    "start_time": "2022-03-31T20:35:34.011Z"
   },
   {
    "duration": 56,
    "start_time": "2022-03-31T20:35:34.025Z"
   },
   {
    "duration": 12,
    "start_time": "2022-03-31T20:35:34.083Z"
   },
   {
    "duration": 23,
    "start_time": "2022-03-31T20:35:34.097Z"
   },
   {
    "duration": 11,
    "start_time": "2022-03-31T20:35:34.125Z"
   },
   {
    "duration": 49,
    "start_time": "2022-03-31T20:35:34.139Z"
   },
   {
    "duration": 306,
    "start_time": "2022-03-31T20:35:34.191Z"
   },
   {
    "duration": 5,
    "start_time": "2022-03-31T20:35:34.499Z"
   },
   {
    "duration": 7,
    "start_time": "2022-03-31T20:35:34.506Z"
   },
   {
    "duration": 283,
    "start_time": "2022-03-31T20:35:34.515Z"
   },
   {
    "duration": 5,
    "start_time": "2022-03-31T20:35:34.801Z"
   },
   {
    "duration": 8,
    "start_time": "2022-03-31T20:35:34.808Z"
   },
   {
    "duration": 312,
    "start_time": "2022-03-31T20:35:34.818Z"
   },
   {
    "duration": 7,
    "start_time": "2022-03-31T20:35:35.132Z"
   },
   {
    "duration": 8,
    "start_time": "2022-03-31T20:35:35.142Z"
   },
   {
    "duration": 76,
    "start_time": "2022-03-31T20:35:35.152Z"
   },
   {
    "duration": 74,
    "start_time": "2022-03-31T20:35:35.230Z"
   },
   {
    "duration": 353,
    "start_time": "2022-03-31T20:35:35.307Z"
   },
   {
    "duration": 529,
    "start_time": "2022-03-31T20:35:35.662Z"
   },
   {
    "duration": 443,
    "start_time": "2022-03-31T20:35:36.193Z"
   },
   {
    "duration": 593,
    "start_time": "2022-03-31T20:35:36.638Z"
   },
   {
    "duration": 344,
    "start_time": "2022-03-31T20:35:37.233Z"
   },
   {
    "duration": 502,
    "start_time": "2022-03-31T20:35:37.579Z"
   },
   {
    "duration": 11,
    "start_time": "2022-03-31T20:35:38.083Z"
   },
   {
    "duration": 16,
    "start_time": "2022-03-31T20:35:38.096Z"
   },
   {
    "duration": 16,
    "start_time": "2022-03-31T20:35:38.114Z"
   },
   {
    "duration": 5,
    "start_time": "2022-03-31T20:35:38.132Z"
   },
   {
    "duration": 10,
    "start_time": "2022-03-31T20:35:38.175Z"
   },
   {
    "duration": 11,
    "start_time": "2022-03-31T20:35:38.187Z"
   },
   {
    "duration": 19,
    "start_time": "2022-03-31T20:35:38.200Z"
   },
   {
    "duration": 156,
    "start_time": "2022-03-31T20:35:38.222Z"
   },
   {
    "duration": 5,
    "start_time": "2022-03-31T20:53:18.942Z"
   },
   {
    "duration": 9,
    "start_time": "2022-03-31T20:53:21.445Z"
   },
   {
    "duration": 128,
    "start_time": "2022-03-31T20:53:23.580Z"
   },
   {
    "duration": 5,
    "start_time": "2022-03-31T20:53:35.908Z"
   },
   {
    "duration": 9,
    "start_time": "2022-03-31T20:54:00.037Z"
   },
   {
    "duration": 8,
    "start_time": "2022-03-31T20:54:17.005Z"
   },
   {
    "duration": 5,
    "start_time": "2022-03-31T20:54:18.859Z"
   },
   {
    "duration": 12,
    "start_time": "2022-03-31T20:54:37.964Z"
   },
   {
    "duration": 12,
    "start_time": "2022-03-31T20:59:20.605Z"
   },
   {
    "duration": 12,
    "start_time": "2022-03-31T20:59:40.228Z"
   },
   {
    "duration": 10,
    "start_time": "2022-03-31T21:05:01.096Z"
   },
   {
    "duration": 200,
    "start_time": "2022-03-31T21:05:40.328Z"
   },
   {
    "duration": 383,
    "start_time": "2022-03-31T21:05:49.063Z"
   },
   {
    "duration": 298,
    "start_time": "2022-03-31T21:05:54.752Z"
   },
   {
    "duration": 298,
    "start_time": "2022-03-31T21:06:17.703Z"
   },
   {
    "duration": 59,
    "start_time": "2022-03-31T21:13:50.562Z"
   },
   {
    "duration": 59,
    "start_time": "2022-03-31T21:14:06.232Z"
   },
   {
    "duration": 8,
    "start_time": "2022-03-31T21:15:38.304Z"
   },
   {
    "duration": 364,
    "start_time": "2022-03-31T21:15:39.730Z"
   },
   {
    "duration": 281,
    "start_time": "2022-03-31T21:15:42.000Z"
   },
   {
    "duration": 35,
    "start_time": "2022-03-31T21:16:10.792Z"
   },
   {
    "duration": 5,
    "start_time": "2022-03-31T21:16:28.489Z"
   },
   {
    "duration": 5,
    "start_time": "2022-03-31T21:16:31.584Z"
   },
   {
    "duration": 273,
    "start_time": "2022-03-31T21:17:58.553Z"
   },
   {
    "duration": 285,
    "start_time": "2022-03-31T21:18:09.480Z"
   },
   {
    "duration": 9,
    "start_time": "2022-03-31T21:19:01.930Z"
   },
   {
    "duration": 162,
    "start_time": "2022-03-31T21:20:36.017Z"
   },
   {
    "duration": 17,
    "start_time": "2022-03-31T21:20:39.662Z"
   },
   {
    "duration": 11,
    "start_time": "2022-03-31T21:21:10.242Z"
   },
   {
    "duration": 35,
    "start_time": "2022-03-31T21:21:28.033Z"
   },
   {
    "duration": 8,
    "start_time": "2022-03-31T21:21:32.530Z"
   },
   {
    "duration": 8,
    "start_time": "2022-03-31T21:22:57.106Z"
   },
   {
    "duration": 10,
    "start_time": "2022-03-31T21:23:10.258Z"
   },
   {
    "duration": 54,
    "start_time": "2022-03-31T21:23:14.171Z"
   },
   {
    "duration": 57,
    "start_time": "2022-03-31T21:23:28.090Z"
   },
   {
    "duration": 10,
    "start_time": "2022-03-31T21:23:38.209Z"
   },
   {
    "duration": 9,
    "start_time": "2022-03-31T21:24:06.698Z"
   },
   {
    "duration": 10,
    "start_time": "2022-03-31T21:24:23.022Z"
   },
   {
    "duration": 9,
    "start_time": "2022-03-31T21:24:36.140Z"
   },
   {
    "duration": 8,
    "start_time": "2022-03-31T21:24:55.138Z"
   },
   {
    "duration": 303,
    "start_time": "2022-03-31T21:28:02.253Z"
   },
   {
    "duration": 186,
    "start_time": "2022-03-31T21:28:14.780Z"
   },
   {
    "duration": 315,
    "start_time": "2022-03-31T21:29:33.626Z"
   },
   {
    "duration": 303,
    "start_time": "2022-03-31T21:29:57.646Z"
   },
   {
    "duration": 277,
    "start_time": "2022-03-31T21:30:12.861Z"
   },
   {
    "duration": 295,
    "start_time": "2022-03-31T21:30:17.932Z"
   },
   {
    "duration": 612,
    "start_time": "2022-03-31T21:31:48.766Z"
   },
   {
    "duration": 675,
    "start_time": "2022-03-31T21:31:54.341Z"
   },
   {
    "duration": 291,
    "start_time": "2022-03-31T21:32:19.812Z"
   },
   {
    "duration": 127,
    "start_time": "2022-03-31T21:34:42.532Z"
   },
   {
    "duration": 126,
    "start_time": "2022-03-31T21:34:48.860Z"
   },
   {
    "duration": 1549,
    "start_time": "2022-03-31T21:36:18.844Z"
   },
   {
    "duration": 488,
    "start_time": "2022-03-31T21:36:20.396Z"
   },
   {
    "duration": 4,
    "start_time": "2022-03-31T21:36:20.886Z"
   },
   {
    "duration": 60,
    "start_time": "2022-03-31T21:36:20.893Z"
   },
   {
    "duration": 44,
    "start_time": "2022-03-31T21:36:20.955Z"
   },
   {
    "duration": 34,
    "start_time": "2022-03-31T21:36:21.001Z"
   },
   {
    "duration": 55,
    "start_time": "2022-03-31T21:36:21.037Z"
   },
   {
    "duration": 28,
    "start_time": "2022-03-31T21:36:21.094Z"
   },
   {
    "duration": 51,
    "start_time": "2022-03-31T21:36:21.124Z"
   },
   {
    "duration": 19,
    "start_time": "2022-03-31T21:36:21.179Z"
   },
   {
    "duration": 132,
    "start_time": "2022-03-31T21:36:21.200Z"
   },
   {
    "duration": 78,
    "start_time": "2022-03-31T21:36:21.334Z"
   },
   {
    "duration": 41,
    "start_time": "2022-03-31T21:36:21.414Z"
   },
   {
    "duration": 61,
    "start_time": "2022-03-31T21:36:21.457Z"
   },
   {
    "duration": 34,
    "start_time": "2022-03-31T21:36:21.521Z"
   },
   {
    "duration": 33,
    "start_time": "2022-03-31T21:36:21.574Z"
   },
   {
    "duration": 11,
    "start_time": "2022-03-31T21:36:21.609Z"
   },
   {
    "duration": 68,
    "start_time": "2022-03-31T21:36:21.622Z"
   },
   {
    "duration": 11,
    "start_time": "2022-03-31T21:36:21.692Z"
   },
   {
    "duration": 6,
    "start_time": "2022-03-31T21:36:21.705Z"
   },
   {
    "duration": 8,
    "start_time": "2022-03-31T21:36:21.713Z"
   },
   {
    "duration": 16,
    "start_time": "2022-03-31T21:36:21.723Z"
   },
   {
    "duration": 5,
    "start_time": "2022-03-31T21:36:21.774Z"
   },
   {
    "duration": 14,
    "start_time": "2022-03-31T21:36:21.781Z"
   },
   {
    "duration": 15,
    "start_time": "2022-03-31T21:36:21.797Z"
   },
   {
    "duration": 12,
    "start_time": "2022-03-31T21:36:21.814Z"
   },
   {
    "duration": 47,
    "start_time": "2022-03-31T21:36:21.828Z"
   },
   {
    "duration": 11,
    "start_time": "2022-03-31T21:36:21.880Z"
   },
   {
    "duration": 36,
    "start_time": "2022-03-31T21:36:21.893Z"
   },
   {
    "duration": 309,
    "start_time": "2022-03-31T21:36:21.931Z"
   },
   {
    "duration": 5,
    "start_time": "2022-03-31T21:36:22.243Z"
   },
   {
    "duration": 23,
    "start_time": "2022-03-31T21:36:22.251Z"
   },
   {
    "duration": 281,
    "start_time": "2022-03-31T21:36:22.277Z"
   },
   {
    "duration": 14,
    "start_time": "2022-03-31T21:36:22.561Z"
   },
   {
    "duration": 6,
    "start_time": "2022-03-31T21:36:22.577Z"
   },
   {
    "duration": 305,
    "start_time": "2022-03-31T21:36:22.586Z"
   },
   {
    "duration": 5,
    "start_time": "2022-03-31T21:36:22.894Z"
   },
   {
    "duration": 8,
    "start_time": "2022-03-31T21:36:22.901Z"
   },
   {
    "duration": 85,
    "start_time": "2022-03-31T21:36:22.911Z"
   },
   {
    "duration": 55,
    "start_time": "2022-03-31T21:36:22.998Z"
   },
   {
    "duration": 366,
    "start_time": "2022-03-31T21:36:23.055Z"
   },
   {
    "duration": 543,
    "start_time": "2022-03-31T21:36:23.423Z"
   },
   {
    "duration": 338,
    "start_time": "2022-03-31T21:36:23.968Z"
   },
   {
    "duration": 578,
    "start_time": "2022-03-31T21:36:24.309Z"
   },
   {
    "duration": 332,
    "start_time": "2022-03-31T21:36:24.890Z"
   },
   {
    "duration": 499,
    "start_time": "2022-03-31T21:36:25.225Z"
   },
   {
    "duration": 8,
    "start_time": "2022-03-31T21:36:25.727Z"
   },
   {
    "duration": 314,
    "start_time": "2022-03-31T21:36:25.737Z"
   },
   {
    "duration": 308,
    "start_time": "2022-03-31T21:36:26.053Z"
   },
   {
    "duration": 16,
    "start_time": "2022-03-31T21:36:26.363Z"
   },
   {
    "duration": 8,
    "start_time": "2022-03-31T21:36:26.381Z"
   },
   {
    "duration": 5,
    "start_time": "2022-03-31T21:36:26.391Z"
   },
   {
    "duration": 8,
    "start_time": "2022-03-31T21:36:26.399Z"
   },
   {
    "duration": 11,
    "start_time": "2022-03-31T21:36:26.410Z"
   },
   {
    "duration": 65,
    "start_time": "2022-03-31T21:36:26.424Z"
   },
   {
    "duration": 5,
    "start_time": "2022-03-31T21:36:26.492Z"
   },
   {
    "duration": 22,
    "start_time": "2022-03-31T21:36:26.500Z"
   },
   {
    "duration": 11,
    "start_time": "2022-03-31T21:36:26.525Z"
   },
   {
    "duration": 53,
    "start_time": "2022-03-31T21:36:26.538Z"
   },
   {
    "duration": 141,
    "start_time": "2022-03-31T21:36:26.594Z"
   },
   {
    "duration": 21,
    "start_time": "2022-03-31T21:37:32.079Z"
   },
   {
    "duration": 1519,
    "start_time": "2022-03-31T21:37:39.064Z"
   },
   {
    "duration": 483,
    "start_time": "2022-03-31T21:37:40.586Z"
   },
   {
    "duration": 3,
    "start_time": "2022-03-31T21:37:41.072Z"
   },
   {
    "duration": 52,
    "start_time": "2022-03-31T21:37:41.078Z"
   },
   {
    "duration": 63,
    "start_time": "2022-03-31T21:37:41.133Z"
   },
   {
    "duration": 33,
    "start_time": "2022-03-31T21:37:41.198Z"
   },
   {
    "duration": 55,
    "start_time": "2022-03-31T21:37:41.233Z"
   },
   {
    "duration": 30,
    "start_time": "2022-03-31T21:37:41.290Z"
   },
   {
    "duration": 11,
    "start_time": "2022-03-31T21:37:41.322Z"
   },
   {
    "duration": 19,
    "start_time": "2022-03-31T21:37:41.373Z"
   },
   {
    "duration": 128,
    "start_time": "2022-03-31T21:37:41.394Z"
   },
   {
    "duration": 83,
    "start_time": "2022-03-31T21:37:41.524Z"
   },
   {
    "duration": 41,
    "start_time": "2022-03-31T21:37:41.610Z"
   },
   {
    "duration": 59,
    "start_time": "2022-03-31T21:37:41.653Z"
   },
   {
    "duration": 35,
    "start_time": "2022-03-31T21:37:41.714Z"
   },
   {
    "duration": 51,
    "start_time": "2022-03-31T21:37:41.751Z"
   },
   {
    "duration": 13,
    "start_time": "2022-03-31T21:37:41.804Z"
   },
   {
    "duration": 68,
    "start_time": "2022-03-31T21:37:41.819Z"
   },
   {
    "duration": 11,
    "start_time": "2022-03-31T21:37:41.889Z"
   },
   {
    "duration": 9,
    "start_time": "2022-03-31T21:37:41.901Z"
   },
   {
    "duration": 7,
    "start_time": "2022-03-31T21:37:41.911Z"
   },
   {
    "duration": 55,
    "start_time": "2022-03-31T21:37:41.920Z"
   },
   {
    "duration": 16,
    "start_time": "2022-03-31T21:37:41.977Z"
   },
   {
    "duration": 4,
    "start_time": "2022-03-31T21:37:41.996Z"
   },
   {
    "duration": 9,
    "start_time": "2022-03-31T21:37:42.002Z"
   },
   {
    "duration": 14,
    "start_time": "2022-03-31T21:37:42.013Z"
   },
   {
    "duration": 51,
    "start_time": "2022-03-31T21:37:42.029Z"
   },
   {
    "duration": 9,
    "start_time": "2022-03-31T21:37:42.086Z"
   },
   {
    "duration": 9,
    "start_time": "2022-03-31T21:37:42.098Z"
   },
   {
    "duration": 28,
    "start_time": "2022-03-31T21:37:42.109Z"
   },
   {
    "duration": 330,
    "start_time": "2022-03-31T21:37:42.139Z"
   },
   {
    "duration": 5,
    "start_time": "2022-03-31T21:37:42.471Z"
   },
   {
    "duration": 7,
    "start_time": "2022-03-31T21:37:42.478Z"
   },
   {
    "duration": 289,
    "start_time": "2022-03-31T21:37:42.488Z"
   },
   {
    "duration": 7,
    "start_time": "2022-03-31T21:37:42.780Z"
   },
   {
    "duration": 10,
    "start_time": "2022-03-31T21:37:42.789Z"
   },
   {
    "duration": 307,
    "start_time": "2022-03-31T21:37:42.801Z"
   },
   {
    "duration": 5,
    "start_time": "2022-03-31T21:37:43.111Z"
   },
   {
    "duration": 9,
    "start_time": "2022-03-31T21:37:43.119Z"
   },
   {
    "duration": 83,
    "start_time": "2022-03-31T21:37:43.130Z"
   },
   {
    "duration": 76,
    "start_time": "2022-03-31T21:37:43.216Z"
   },
   {
    "duration": 345,
    "start_time": "2022-03-31T21:37:43.294Z"
   },
   {
    "duration": 542,
    "start_time": "2022-03-31T21:37:43.642Z"
   },
   {
    "duration": 443,
    "start_time": "2022-03-31T21:37:44.187Z"
   },
   {
    "duration": 573,
    "start_time": "2022-03-31T21:37:44.632Z"
   },
   {
    "duration": 343,
    "start_time": "2022-03-31T21:37:45.208Z"
   },
   {
    "duration": 508,
    "start_time": "2022-03-31T21:37:45.554Z"
   },
   {
    "duration": 15,
    "start_time": "2022-03-31T21:37:46.064Z"
   },
   {
    "duration": 313,
    "start_time": "2022-03-31T21:37:46.082Z"
   },
   {
    "duration": 298,
    "start_time": "2022-03-31T21:37:46.397Z"
   },
   {
    "duration": 8,
    "start_time": "2022-03-31T21:37:46.697Z"
   },
   {
    "duration": 9,
    "start_time": "2022-03-31T21:37:46.707Z"
   },
   {
    "duration": 6,
    "start_time": "2022-03-31T21:37:46.718Z"
   },
   {
    "duration": 12,
    "start_time": "2022-03-31T21:37:46.726Z"
   },
   {
    "duration": 44,
    "start_time": "2022-03-31T21:37:46.740Z"
   },
   {
    "duration": 17,
    "start_time": "2022-03-31T21:37:46.787Z"
   },
   {
    "duration": 5,
    "start_time": "2022-03-31T21:37:46.806Z"
   },
   {
    "duration": 12,
    "start_time": "2022-03-31T21:37:46.814Z"
   },
   {
    "duration": 52,
    "start_time": "2022-03-31T21:37:46.828Z"
   },
   {
    "duration": 20,
    "start_time": "2022-03-31T21:37:46.883Z"
   },
   {
    "duration": 158,
    "start_time": "2022-03-31T21:37:46.905Z"
   }
  ],
  "kernelspec": {
   "display_name": "Python 3 (ipykernel)",
   "language": "python",
   "name": "python3"
  },
  "language_info": {
   "codemirror_mode": {
    "name": "ipython",
    "version": 3
   },
   "file_extension": ".py",
   "mimetype": "text/x-python",
   "name": "python",
   "nbconvert_exporter": "python",
   "pygments_lexer": "ipython3",
   "version": "3.9.21"
  },
  "toc": {
   "base_numbering": 1,
   "nav_menu": {},
   "number_sections": true,
   "sideBar": true,
   "skip_h1_title": true,
   "title_cell": "Table of Contents",
   "title_sidebar": "Contents",
   "toc_cell": false,
   "toc_position": {
    "height": "calc(100% - 180px)",
    "left": "10px",
    "top": "150px",
    "width": "215.188px"
   },
   "toc_section_display": true,
   "toc_window_display": true
  }
 },
 "nbformat": 4,
 "nbformat_minor": 4
}
